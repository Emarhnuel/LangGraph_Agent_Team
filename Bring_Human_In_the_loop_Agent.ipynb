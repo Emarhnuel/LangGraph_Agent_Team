{
  "cells": [
    {
      "cell_type": "markdown",
      "source": [
        "This code implements a human-in-the-loop agent using LangChain and LangGraph. The agent is capable of answering questions by either performing calculations or conducting web searches using the Tavily search tool. The workflow is structured as a state graph: the agent first processes the user's input, then determines whether to use a tool or return an answer directly. If a tool is required, the user is asked for confirmation before proceeding with potentially expensive operations like web searches."
      ],
      "metadata": {
        "id": "qtmHvzmqaFyH"
      }
    },
    {
      "cell_type": "code",
      "execution_count": 1,
      "metadata": {
        "id": "McOZnZxBgrLW"
      },
      "outputs": [],
      "source": [
        "%%capture --no-stderr\n",
        "!pip install langchain langchain_openai langgraph chromadb langchain_community  --q\n",
        "!apt install libgraphviz-dev\n",
        "!pip install pygraphviz --q"
      ]
    },
    {
      "cell_type": "markdown",
      "metadata": {
        "id": "RUw744Iusl__"
      },
      "source": [
        "### Get the credentials"
      ]
    },
    {
      "cell_type": "code",
      "execution_count": 8,
      "metadata": {
        "id": "55O3DBL3gQWZ"
      },
      "outputs": [],
      "source": [
        "from google.colab import userdata\n",
        "import os\n",
        "os.environ[\"OPENAI_API_KEY\"] = userdata.get('OPENAI_API_KEY')\n",
        "os.environ[\"TAVILY_API_KEY\"] = userdata.get('TAVILY')"
      ]
    },
    {
      "cell_type": "markdown",
      "metadata": {
        "id": "W7snwktkspmX"
      },
      "source": [
        "### Set up LLM"
      ]
    },
    {
      "cell_type": "code",
      "execution_count": 9,
      "metadata": {
        "id": "zRcBXfWJhRI4"
      },
      "outputs": [],
      "source": [
        "from langchain_openai import ChatOpenAI\n",
        "\n",
        "model = ChatOpenAI(temperature=0)"
      ]
    },
    {
      "cell_type": "markdown",
      "metadata": {
        "id": "7j62xwzotB_P"
      },
      "source": [
        "### Create tools\n",
        " - Multiply\n",
        " - Search"
      ]
    },
    {
      "cell_type": "code",
      "execution_count": 10,
      "metadata": {
        "id": "dm-odDlZjT--"
      },
      "outputs": [],
      "source": [
        "from langchain_core.tools import tool\n",
        "from langchain_community.tools.tavily_search import TavilySearchResults\n",
        "\n",
        "@tool\n",
        "def multiply(first_number: int, second_number: int)->int:\n",
        "    \"\"\"Multiplies two interger together.\"\"\"\n",
        "    return first_number * second_number\n",
        "\n",
        "@tool\n",
        "def search(query: str):\n",
        "    \"\"\"perform web search on the user query\"\"\"\n",
        "    tavily = TavilySearchResults(max_results=1)\n",
        "    result = tavily.invoke(query)\n",
        "    return result"
      ]
    },
    {
      "cell_type": "markdown",
      "metadata": {
        "id": "r1trDKgwtLpO"
      },
      "source": [
        "### Combine the tools and Bind to the LLM"
      ]
    },
    {
      "cell_type": "code",
      "execution_count": 11,
      "metadata": {
        "id": "0UkYYtBBjfNm"
      },
      "outputs": [],
      "source": [
        "tools = [search,multiply]"
      ]
    },
    {
      "cell_type": "code",
      "execution_count": 12,
      "metadata": {
        "id": "GGiAO6opogHs"
      },
      "outputs": [],
      "source": [
        "tool_map = {tool.name: tool for tool in tools}"
      ]
    },
    {
      "cell_type": "code",
      "execution_count": 13,
      "metadata": {
        "colab": {
          "base_uri": "https://localhost:8080/"
        },
        "id": "BITLqG1x0U-4",
        "outputId": "5942ff47-8681-433e-a6f9-30301e6604dc"
      },
      "outputs": [
        {
          "output_type": "execute_result",
          "data": {
            "text/plain": [
              "{'search': StructuredTool(name='search', description='perform web search on the user query', args_schema=<class 'pydantic.v1.main.searchSchema'>, func=<function search at 0x7a70a0c22560>),\n",
              " 'multiply': StructuredTool(name='multiply', description='Multiplies two interger together.', args_schema=<class 'pydantic.v1.main.multiplySchema'>, func=<function multiply at 0x7a70a0c224d0>)}"
            ]
          },
          "metadata": {},
          "execution_count": 13
        }
      ],
      "source": [
        "tool_map"
      ]
    },
    {
      "cell_type": "code",
      "execution_count": 14,
      "metadata": {
        "id": "rkL82Z_3j96F"
      },
      "outputs": [],
      "source": [
        "model_with_tools = model.bind_tools(tools)"
      ]
    },
    {
      "cell_type": "markdown",
      "metadata": {
        "id": "pipkX-PfuTU4"
      },
      "source": [
        "### Checking the tool calling with Specific questions"
      ]
    },
    {
      "cell_type": "code",
      "execution_count": 16,
      "metadata": {
        "colab": {
          "base_uri": "https://localhost:8080/"
        },
        "id": "qTy_ISzzqMdR",
        "outputId": "46472c0a-0205-405d-9c4e-2ef68e8ab813"
      },
      "outputs": [
        {
          "output_type": "stream",
          "name": "stdout",
          "text": [
            "{'id': 'call_I8oEu4x7e4GOXsAc7AaL3DUC', 'function': {'arguments': '{\"query\":\"Champions league winner 2024\"}', 'name': 'search'}, 'type': 'function'}\n"
          ]
        }
      ],
      "source": [
        "res = model_with_tools.invoke('Search from internet and tell me who won the Champions league in 2024?')\n",
        "for i in res.additional_kwargs.get(\"tool_calls\", []):\n",
        "    print(i)"
      ]
    },
    {
      "cell_type": "code",
      "execution_count": 17,
      "metadata": {
        "id": "R0KnLQ18QCPe",
        "colab": {
          "base_uri": "https://localhost:8080/"
        },
        "outputId": "639ac7b0-7486-4419-a925-49ba6378863c"
      },
      "outputs": [
        {
          "output_type": "execute_result",
          "data": {
            "text/plain": [
              "[{'url': 'https://en.wikipedia.org/wiki/2024_UEFA_Champions_League_final',\n",
              "  'content': 'Wembley Stadium was selected by the UEFA Executive Committee during their meeting in Ljubljana, Slovenia, on 24 September 2019,[7] where the hosts for the 2021 and 2022 UEFA Champions League finals were also appointed.[8]\\nOn 17 June 2020, the UEFA Executive Committee announced that due to the postponement and relocation of the 2020 final, London would instead host the 2024 final.[2]\\nPre-match[edit]\\nIdentity[edit]\\nThe visual identity of the 2024 UEFA Champions League final was unveiled at the group stage draw in Monaco on 31 August 2023.[9]\\nMatch[edit]\\nDetails[edit]\\nThe \"home\" team (for administrative purposes) will be determined by an additional draw held after the quarter-final and semi-final draws.\\n Contents\\n2024 UEFA Champions League final\\nThe 2024 UEFA Champions League final will be the final match of the 2023–24 UEFA Champions League, the 69th season of Europe\\'s premier club football tournament organised by UEFA, and the 32nd season since it was renamed from the European Champion Clubs\\' Cup to the UEFA Champions League. It is also the thirteenth held in the United Kingdom, with the 1960, 1976 and 2002 finals held in Scotland and the 2017 final held in Wales.[4] Wembley Stadium was also a host venue at UEFA Euro 2020, with eight matches played at the stadium including the semi-finals and final.\\n Associations had until 22 March 2019 to express interest, and bid dossiers had to be submitted by 1 July 2019.[6]\\nThe Football Association was reported to have bid with Wembley Stadium in London to host the 2023 final, in order to mark the centenary of the opening of the original stadium in 1923.[6] The winners will earn the right to play against the winners of the 2023–24 UEFA Europa League in the 2024 UEFA Super Cup, as well as qualify for the 2025 expanded FIFA Club World Cup using the UEFA\\'s champions pathway.[3]'}]"
            ]
          },
          "metadata": {},
          "execution_count": 17
        }
      ],
      "source": [
        "tool_map[i['function']['name']].invoke(i['function']['arguments'])"
      ]
    },
    {
      "cell_type": "code",
      "execution_count": 18,
      "metadata": {
        "colab": {
          "base_uri": "https://localhost:8080/"
        },
        "id": "pqmXQccoqSe1",
        "outputId": "d6d78aa1-f9d0-42ad-ac8d-72f69aa0b633"
      },
      "outputs": [
        {
          "output_type": "stream",
          "name": "stdout",
          "text": [
            "{'id': 'call_y9RsvEMrOKybCcfABQ4qLmKE', 'function': {'arguments': '{\"first_number\":334,\"second_number\":55}', 'name': 'multiply'}, 'type': 'function'}\n"
          ]
        }
      ],
      "source": [
        "res = model_with_tools.invoke('What is 334*55')\n",
        "for i in res.additional_kwargs.get(\"tool_calls\", []):\n",
        "    print(i)"
      ]
    },
    {
      "cell_type": "markdown",
      "metadata": {
        "id": "QhfucGTRuYe4"
      },
      "source": [
        "### Graph creation"
      ]
    },
    {
      "cell_type": "code",
      "execution_count": 19,
      "metadata": {
        "id": "e22vDf4akJdI"
      },
      "outputs": [],
      "source": [
        "from typing import TypedDict, Annotated, Sequence\n",
        "import operator,json\n",
        "from langchain_core.messages import BaseMessage\n",
        "\n",
        "\n",
        "class AgentState(TypedDict):\n",
        "    messages: Annotated[Sequence[BaseMessage], operator.add]"
      ]
    },
    {
      "cell_type": "code",
      "execution_count": 20,
      "metadata": {
        "id": "DRMMO3_fmVU3"
      },
      "outputs": [],
      "source": [
        "def invoke_model(state):\n",
        "    messages = state['messages']\n",
        "    question = messages[-1]   ## Fetching the user question\n",
        "    return {\"messages\":[model_with_tools.invoke(question)]}"
      ]
    },
    {
      "cell_type": "markdown",
      "metadata": {
        "id": "pR_hTKvPudEX"
      },
      "source": [
        "### Bring human in the loop\n",
        "\n",
        "-- Bring human approval for costly tool calls or where we need validation"
      ]
    },
    {
      "cell_type": "code",
      "execution_count": 21,
      "metadata": {
        "id": "WOBOK3Ezm3ex"
      },
      "outputs": [],
      "source": [
        "def invoke_tool(state):\n",
        "    tool_calls = state['messages'][-1].additional_kwargs.get(\"tool_calls\", [])\n",
        "    tool_details = None\n",
        "\n",
        "    for tool_call in tool_calls:\n",
        "        tool_details = tool_call\n",
        "\n",
        "    if tool_details is None:\n",
        "        raise Exception(\"No adder input found.\")\n",
        "\n",
        "    print(f'Selected tool: {tool_details.get(\"function\").get(\"name\")}')\n",
        "\n",
        "    if tool_details.get(\"function\").get(\"name\") == \"search\":\n",
        "        response = input(prompt=f\"[y/n] continue with expensive web search?\")\n",
        "        if response == \"n\":\n",
        "            raise ValueError\n",
        "\n",
        "    response = tool_map[tool_details['function']['name']].invoke(json.loads(tool_details.get(\"function\").get(\"arguments\")))\n",
        "    return {\"messages\" : [response]}"
      ]
    },
    {
      "cell_type": "code",
      "execution_count": 22,
      "metadata": {
        "id": "sSSjIfFcmc1h"
      },
      "outputs": [],
      "source": [
        "from langgraph.graph import StateGraph,END\n",
        "\n",
        "graph = StateGraph(AgentState) ### StateGraph with AgentState\n",
        "\n",
        "graph.add_node(\"agent\", invoke_model)\n",
        "\n",
        "graph.add_node(\"tool\", invoke_tool)\n",
        "\n",
        "def router(state):\n",
        "    tool_calls = state['messages'][-1].additional_kwargs.get(\"tool_calls\", [])\n",
        "    if len(tool_calls):\n",
        "        return \"tool\"\n",
        "    else:\n",
        "        return \"end\"\n",
        "\n",
        "graph.add_conditional_edges(\"agent\", router, {\n",
        "    \"tool\": \"tool\",\n",
        "    \"end\": END,\n",
        "})\n",
        "\n",
        "graph.add_edge(\"tool\", END)\n",
        "\n",
        "graph.set_entry_point(\"agent\")"
      ]
    },
    {
      "cell_type": "code",
      "execution_count": 23,
      "metadata": {
        "id": "yu62shbsnbF8"
      },
      "outputs": [],
      "source": [
        "app = graph.compile()"
      ]
    },
    {
      "cell_type": "code",
      "execution_count": 24,
      "metadata": {
        "id": "gVd21fUYjA1b"
      },
      "outputs": [],
      "source": [
        "from IPython.display import Image, display"
      ]
    },
    {
      "cell_type": "code",
      "execution_count": 25,
      "metadata": {
        "colab": {
          "base_uri": "https://localhost:8080/",
          "height": 512
        },
        "id": "O9kxG7cLjIj-",
        "outputId": "7f2a0698-f3f1-4b23-b5db-afbe78e12e7e"
      },
      "outputs": [
        {
          "output_type": "display_data",
          "data": {
            "image/png": "[encoded data removed]",
            "text/plain": [
              "<IPython.core.display.Image object>"
            ]
          },
          "metadata": {}
        }
      ],
      "source": [
        "display(Image(app.get_graph().draw_png()))"
      ]
    },
    {
      "cell_type": "markdown",
      "metadata": {
        "id": "37y2RYIsut2_"
      },
      "source": [
        "### Testing with Questions"
      ]
    },
    {
      "cell_type": "code",
      "execution_count": 26,
      "metadata": {
        "colab": {
          "base_uri": "https://localhost:8080/"
        },
        "id": "cfH6AFgNnc1-",
        "outputId": "fe4a0f7f-44ec-48df-e672-a22e12145f58"
      },
      "outputs": [
        {
          "output_type": "stream",
          "name": "stdout",
          "text": [
            "{'messages': [AIMessage(content='', additional_kwargs={'tool_calls': [{'id': 'call_kLQLwDPNjur41ah5O3PZ8K0k', 'function': {'arguments': '{\"first_number\": 334, \"second_number\": 765}', 'name': 'multiply'}, 'type': 'function'}, {'id': 'call_buakWI75WOPbfh2y66Fiab36', 'function': {'arguments': '{\"first_number\": 765, \"second_number\": 334}', 'name': 'multiply'}, 'type': 'function'}]}, response_metadata={'token_usage': {'completion_tokens': 53, 'prompt_tokens': 80, 'total_tokens': 133}, 'model_name': 'gpt-3.5-turbo-0125', 'system_fingerprint': None, 'finish_reason': 'tool_calls', 'logprobs': None}, id='run-8b132f62-31fc-431c-b4f0-09289502e5d0-0', tool_calls=[{'name': 'multiply', 'args': {'first_number': 334, 'second_number': 765}, 'id': 'call_kLQLwDPNjur41ah5O3PZ8K0k', 'type': 'tool_call'}, {'name': 'multiply', 'args': {'first_number': 765, 'second_number': 334}, 'id': 'call_buakWI75WOPbfh2y66Fiab36', 'type': 'tool_call'}], usage_metadata={'input_tokens': 80, 'output_tokens': 53, 'total_tokens': 133})]}\n",
            "----\n",
            "Selected tool: multiply\n",
            "{'messages': [255510]}\n",
            "----\n"
          ]
        }
      ],
      "source": [
        "for s in app.stream({\"messages\": [\"What is 334 * 765?\"]}):\n",
        "    print(list(s.values())[0])\n",
        "    print(\"----\")"
      ]
    },
    {
      "cell_type": "code",
      "execution_count": 28,
      "metadata": {
        "colab": {
          "base_uri": "https://localhost:8080/"
        },
        "id": "FgyCMT8KsoxO",
        "outputId": "0d23dd77-2b1e-4561-a972-2d7328993c66"
      },
      "outputs": [
        {
          "output_type": "stream",
          "name": "stdout",
          "text": [
            "{'messages': [AIMessage(content='', additional_kwargs={'tool_calls': [{'id': 'call_eAs6NCppnDMk4fyz7UscrOYM', 'function': {'arguments': '{\"query\":\"Champions league winner 2024\"}', 'name': 'search'}, 'type': 'function'}]}, response_metadata={'token_usage': {'completion_tokens': 19, 'prompt_tokens': 88, 'total_tokens': 107}, 'model_name': 'gpt-3.5-turbo-0125', 'system_fingerprint': None, 'finish_reason': 'tool_calls', 'logprobs': None}, id='run-5cd98d94-8a4a-4f4c-9f51-8d3981925c47-0', tool_calls=[{'name': 'search', 'args': {'query': 'Champions league winner 2024'}, 'id': 'call_eAs6NCppnDMk4fyz7UscrOYM', 'type': 'tool_call'}], usage_metadata={'input_tokens': 88, 'output_tokens': 19, 'total_tokens': 107})]}\n",
            "----\n",
            "Selected tool: search\n",
            "[y/n] continue with expensive web search?y\n",
            "{'messages': [[{'url': 'https://www.uefa.com/uefachampionsleague/news/028e-1b07e18d875a-ba78e4b9d9fc-1000--real-madrid-win-champions-league-carvajal-and-vinicius-jun/', 'content': 'Live 01/06/2024 Champions League winners by nation Joselu became the 79th Spaniard to feature in a final win in 2024, with Jude Bellingham the 70th English player. ...'}]]}\n",
            "----\n"
          ]
        }
      ],
      "source": [
        "for s in app.stream({\"messages\": [\"Search from internet and tell me who won the Champions league in 2024?\"]}):\n",
        "    print(list(s.values())[0])\n",
        "    print(\"----\")"
      ]
    },
    {
      "cell_type": "code",
      "execution_count": 29,
      "metadata": {
        "id": "kMAUIf06Sn7L",
        "colab": {
          "base_uri": "https://localhost:8080/"
        },
        "outputId": "79ab42f6-caa9-4b50-d944-83926cfdd544"
      },
      "outputs": [
        {
          "output_type": "stream",
          "name": "stdout",
          "text": [
            "{'messages': [AIMessage(content='', additional_kwargs={'tool_calls': [{'id': 'call_VyPWAKYFxEYHLnyU6KgHSZpi', 'function': {'arguments': '{\"query\":\"T20 Cricket World Cup 2022 winner\"}', 'name': 'search'}, 'type': 'function'}]}, response_metadata={'token_usage': {'completion_tokens': 21, 'prompt_tokens': 85, 'total_tokens': 106}, 'model_name': 'gpt-3.5-turbo-0125', 'system_fingerprint': None, 'finish_reason': 'tool_calls', 'logprobs': None}, id='run-401a86fc-394e-4753-8d63-fc63492f19aa-0', tool_calls=[{'name': 'search', 'args': {'query': 'T20 Cricket World Cup 2022 winner'}, 'id': 'call_VyPWAKYFxEYHLnyU6KgHSZpi', 'type': 'tool_call'}], usage_metadata={'input_tokens': 85, 'output_tokens': 21, 'total_tokens': 106})]}\n",
            "----\n",
            "Selected tool: search\n",
            "[y/n] continue with expensive web search?y\n",
            "{'messages': [[{'url': \"https://en.wikipedia.org/wiki/2022_ICC_Men's_T20_World_Cup_final\", 'content': \"The 2022 ICC Men's T20 World Cup final was a Twenty20 International cricket match played at MCG in Melbourne, Australia on 13 November 2022 to determine the winner of the 2022 ICC Men's T20 World Cup. It was played between England and Pakistan, with both the teams eyeing their second ICC Men's T20 World Cup title. England won the match by 5 wickets to win the title for the second time.\"}]]}\n",
            "----\n"
          ]
        }
      ],
      "source": [
        "for s in app.stream({\"messages\": [\"Who won the T20 Cricket world cup in 2022?\"]}):\n",
        "    print(list(s.values())[0])\n",
        "    print(\"----\")"
      ]
    },
    {
      "cell_type": "code",
      "source": [],
      "metadata": {
        "id": "_SRJARw5ZmvJ"
      },
      "execution_count": null,
      "outputs": []
    }
  ],
  "metadata": {
    "colab": {
      "provenance": []
    },
    "kernelspec": {
      "display_name": "Python 3",
      "name": "python3"
    },
    "language_info": {
      "name": "python"
    }
  },
  "nbformat": 4,
  "nbformat_minor": 0
}