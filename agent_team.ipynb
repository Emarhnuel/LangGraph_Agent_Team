{
  "cells": [
    {
      "cell_type": "markdown",
      "metadata": {
        "id": "dPY_PmZCkQmI"
      },
      "source": [
        "## Team of Agents with a supervisor with LangGraph\n",
        "\n",
        "This code defines a workflow for processing news articles related to football transfers. It first checks if an article is relevant using an LLM-based grader. If relevant, it assesses the article's postability, checking for word count, sensationalism, and language (German). If needed, it can translate and expand the article. The final, approved article is then sent to a publisher. The workflow is implemented as a state graph where each step is a node, and transitions between steps are based on the evaluation results. This allows for a flexible and modular approach to content processing."
      ]
    },
    {
      "cell_type": "code",
      "source": [
        "!pip install langchain-openai"
      ],
      "metadata": {
        "colab": {
          "base_uri": "https://localhost:8080/"
        },
        "id": "is_LHJWMr0mo",
        "outputId": "519fd4e1-e5c4-4e4a-8e1f-3608101a369c"
      },
      "execution_count": 1,
      "outputs": [
        {
          "output_type": "stream",
          "name": "stdout",
          "text": [
            "Collecting langchain-openai\n",
            "  Downloading langchain_openai-0.1.20-py3-none-any.whl.metadata (2.6 kB)\n",
            "Collecting langchain-core<0.3.0,>=0.2.26 (from langchain-openai)\n",
            "  Downloading langchain_core-0.2.26-py3-none-any.whl.metadata (6.2 kB)\n",
            "Collecting openai<2.0.0,>=1.32.0 (from langchain-openai)\n",
            "  Downloading openai-1.37.1-py3-none-any.whl.metadata (22 kB)\n",
            "Collecting tiktoken<1,>=0.7 (from langchain-openai)\n",
            "  Downloading tiktoken-0.7.0-cp310-cp310-manylinux_2_17_x86_64.manylinux2014_x86_64.whl.metadata (6.6 kB)\n",
            "Requirement already satisfied: PyYAML>=5.3 in /usr/local/lib/python3.10/dist-packages (from langchain-core<0.3.0,>=0.2.26->langchain-openai) (6.0.1)\n",
            "Collecting jsonpatch<2.0,>=1.33 (from langchain-core<0.3.0,>=0.2.26->langchain-openai)\n",
            "  Downloading jsonpatch-1.33-py2.py3-none-any.whl.metadata (3.0 kB)\n",
            "Collecting langsmith<0.2.0,>=0.1.75 (from langchain-core<0.3.0,>=0.2.26->langchain-openai)\n",
            "  Downloading langsmith-0.1.95-py3-none-any.whl.metadata (13 kB)\n",
            "Requirement already satisfied: packaging<25,>=23.2 in /usr/local/lib/python3.10/dist-packages (from langchain-core<0.3.0,>=0.2.26->langchain-openai) (24.1)\n",
            "Requirement already satisfied: pydantic<3,>=1 in /usr/local/lib/python3.10/dist-packages (from langchain-core<0.3.0,>=0.2.26->langchain-openai) (2.8.2)\n",
            "Collecting tenacity!=8.4.0,<9.0.0,>=8.1.0 (from langchain-core<0.3.0,>=0.2.26->langchain-openai)\n",
            "  Downloading tenacity-8.5.0-py3-none-any.whl.metadata (1.2 kB)\n",
            "Requirement already satisfied: typing-extensions>=4.7 in /usr/local/lib/python3.10/dist-packages (from langchain-core<0.3.0,>=0.2.26->langchain-openai) (4.12.2)\n",
            "Requirement already satisfied: anyio<5,>=3.5.0 in /usr/local/lib/python3.10/dist-packages (from openai<2.0.0,>=1.32.0->langchain-openai) (3.7.1)\n",
            "Requirement already satisfied: distro<2,>=1.7.0 in /usr/lib/python3/dist-packages (from openai<2.0.0,>=1.32.0->langchain-openai) (1.7.0)\n",
            "Collecting httpx<1,>=0.23.0 (from openai<2.0.0,>=1.32.0->langchain-openai)\n",
            "  Downloading httpx-0.27.0-py3-none-any.whl.metadata (7.2 kB)\n",
            "Requirement already satisfied: sniffio in /usr/local/lib/python3.10/dist-packages (from openai<2.0.0,>=1.32.0->langchain-openai) (1.3.1)\n",
            "Requirement already satisfied: tqdm>4 in /usr/local/lib/python3.10/dist-packages (from openai<2.0.0,>=1.32.0->langchain-openai) (4.66.4)\n",
            "Requirement already satisfied: regex>=2022.1.18 in /usr/local/lib/python3.10/dist-packages (from tiktoken<1,>=0.7->langchain-openai) (2024.5.15)\n",
            "Requirement already satisfied: requests>=2.26.0 in /usr/local/lib/python3.10/dist-packages (from tiktoken<1,>=0.7->langchain-openai) (2.31.0)\n",
            "Requirement already satisfied: idna>=2.8 in /usr/local/lib/python3.10/dist-packages (from anyio<5,>=3.5.0->openai<2.0.0,>=1.32.0->langchain-openai) (3.7)\n",
            "Requirement already satisfied: exceptiongroup in /usr/local/lib/python3.10/dist-packages (from anyio<5,>=3.5.0->openai<2.0.0,>=1.32.0->langchain-openai) (1.2.2)\n",
            "Requirement already satisfied: certifi in /usr/local/lib/python3.10/dist-packages (from httpx<1,>=0.23.0->openai<2.0.0,>=1.32.0->langchain-openai) (2024.7.4)\n",
            "Collecting httpcore==1.* (from httpx<1,>=0.23.0->openai<2.0.0,>=1.32.0->langchain-openai)\n",
            "  Downloading httpcore-1.0.5-py3-none-any.whl.metadata (20 kB)\n",
            "Collecting h11<0.15,>=0.13 (from httpcore==1.*->httpx<1,>=0.23.0->openai<2.0.0,>=1.32.0->langchain-openai)\n",
            "  Downloading h11-0.14.0-py3-none-any.whl.metadata (8.2 kB)\n",
            "Collecting jsonpointer>=1.9 (from jsonpatch<2.0,>=1.33->langchain-core<0.3.0,>=0.2.26->langchain-openai)\n",
            "  Downloading jsonpointer-3.0.0-py2.py3-none-any.whl.metadata (2.3 kB)\n",
            "Collecting orjson<4.0.0,>=3.9.14 (from langsmith<0.2.0,>=0.1.75->langchain-core<0.3.0,>=0.2.26->langchain-openai)\n",
            "  Downloading orjson-3.10.6-cp310-cp310-manylinux_2_17_x86_64.manylinux2014_x86_64.whl.metadata (50 kB)\n",
            "\u001b[2K     \u001b[90m━━━━━━━━━━━━━━━━━━━━━━━━━━━━━━━━━━━━━━━━\u001b[0m \u001b[32m50.4/50.4 kB\u001b[0m \u001b[31m854.0 kB/s\u001b[0m eta \u001b[36m0:00:00\u001b[0m\n",
            "\u001b[?25hRequirement already satisfied: annotated-types>=0.4.0 in /usr/local/lib/python3.10/dist-packages (from pydantic<3,>=1->langchain-core<0.3.0,>=0.2.26->langchain-openai) (0.7.0)\n",
            "Requirement already satisfied: pydantic-core==2.20.1 in /usr/local/lib/python3.10/dist-packages (from pydantic<3,>=1->langchain-core<0.3.0,>=0.2.26->langchain-openai) (2.20.1)\n",
            "Requirement already satisfied: charset-normalizer<4,>=2 in /usr/local/lib/python3.10/dist-packages (from requests>=2.26.0->tiktoken<1,>=0.7->langchain-openai) (3.3.2)\n",
            "Requirement already satisfied: urllib3<3,>=1.21.1 in /usr/local/lib/python3.10/dist-packages (from requests>=2.26.0->tiktoken<1,>=0.7->langchain-openai) (2.0.7)\n",
            "Downloading langchain_openai-0.1.20-py3-none-any.whl (48 kB)\n",
            "\u001b[2K   \u001b[90m━━━━━━━━━━━━━━━━━━━━━━━━━━━━━━━━━━━━━━━━\u001b[0m \u001b[32m48.2/48.2 kB\u001b[0m \u001b[31m2.8 MB/s\u001b[0m eta \u001b[36m0:00:00\u001b[0m\n",
            "\u001b[?25hDownloading langchain_core-0.2.26-py3-none-any.whl (378 kB)\n",
            "\u001b[2K   \u001b[90m━━━━━━━━━━━━━━━━━━━━━━━━━━━━━━━━━━━━━━━━\u001b[0m \u001b[32m378.9/378.9 kB\u001b[0m \u001b[31m26.3 MB/s\u001b[0m eta \u001b[36m0:00:00\u001b[0m\n",
            "\u001b[?25hDownloading openai-1.37.1-py3-none-any.whl (337 kB)\n",
            "\u001b[2K   \u001b[90m━━━━━━━━━━━━━━━━━━━━━━━━━━━━━━━━━━━━━━━━\u001b[0m \u001b[32m337.0/337.0 kB\u001b[0m \u001b[31m18.3 MB/s\u001b[0m eta \u001b[36m0:00:00\u001b[0m\n",
            "\u001b[?25hDownloading tiktoken-0.7.0-cp310-cp310-manylinux_2_17_x86_64.manylinux2014_x86_64.whl (1.1 MB)\n",
            "\u001b[2K   \u001b[90m━━━━━━━━━━━━━━━━━━━━━━━━━━━━━━━━━━━━━━━━\u001b[0m \u001b[32m1.1/1.1 MB\u001b[0m \u001b[31m35.3 MB/s\u001b[0m eta \u001b[36m0:00:00\u001b[0m\n",
            "\u001b[?25hDownloading httpx-0.27.0-py3-none-any.whl (75 kB)\n",
            "\u001b[2K   \u001b[90m━━━━━━━━━━━━━━━━━━━━━━━━━━━━━━━━━━━━━━━━\u001b[0m \u001b[32m75.6/75.6 kB\u001b[0m \u001b[31m4.1 MB/s\u001b[0m eta \u001b[36m0:00:00\u001b[0m\n",
            "\u001b[?25hDownloading httpcore-1.0.5-py3-none-any.whl (77 kB)\n",
            "\u001b[2K   \u001b[90m━━━━━━━━━━━━━━━━━━━━━━━━━━━━━━━━━━━━━━━━\u001b[0m \u001b[32m77.9/77.9 kB\u001b[0m \u001b[31m4.7 MB/s\u001b[0m eta \u001b[36m0:00:00\u001b[0m\n",
            "\u001b[?25hDownloading jsonpatch-1.33-py2.py3-none-any.whl (12 kB)\n",
            "Downloading langsmith-0.1.95-py3-none-any.whl (275 kB)\n",
            "\u001b[2K   \u001b[90m━━━━━━━━━━━━━━━━━━━━━━━━━━━━━━━━━━━━━━━━\u001b[0m \u001b[32m275.8/275.8 kB\u001b[0m \u001b[31m21.3 MB/s\u001b[0m eta \u001b[36m0:00:00\u001b[0m\n",
            "\u001b[?25hDownloading tenacity-8.5.0-py3-none-any.whl (28 kB)\n",
            "Downloading jsonpointer-3.0.0-py2.py3-none-any.whl (7.6 kB)\n",
            "Downloading orjson-3.10.6-cp310-cp310-manylinux_2_17_x86_64.manylinux2014_x86_64.whl (141 kB)\n",
            "\u001b[2K   \u001b[90m━━━━━━━━━━━━━━━━━━━━━━━━━━━━━━━━━━━━━━━━\u001b[0m \u001b[32m141.1/141.1 kB\u001b[0m \u001b[31m6.3 MB/s\u001b[0m eta \u001b[36m0:00:00\u001b[0m\n",
            "\u001b[?25hDownloading h11-0.14.0-py3-none-any.whl (58 kB)\n",
            "\u001b[2K   \u001b[90m━━━━━━━━━━━━━━━━━━━━━━━━━━━━━━━━━━━━━━━━\u001b[0m \u001b[32m58.3/58.3 kB\u001b[0m \u001b[31m4.5 MB/s\u001b[0m eta \u001b[36m0:00:00\u001b[0m\n",
            "\u001b[?25hInstalling collected packages: tenacity, orjson, jsonpointer, h11, tiktoken, jsonpatch, httpcore, langsmith, httpx, openai, langchain-core, langchain-openai\n",
            "  Attempting uninstall: tenacity\n",
            "    Found existing installation: tenacity 9.0.0\n",
            "    Uninstalling tenacity-9.0.0:\n",
            "      Successfully uninstalled tenacity-9.0.0\n",
            "Successfully installed h11-0.14.0 httpcore-1.0.5 httpx-0.27.0 jsonpatch-1.33 jsonpointer-3.0.0 langchain-core-0.2.26 langchain-openai-0.1.20 langsmith-0.1.95 openai-1.37.1 orjson-3.10.6 tenacity-8.5.0 tiktoken-0.7.0\n"
          ]
        }
      ]
    },
    {
      "cell_type": "code",
      "execution_count": 2,
      "metadata": {
        "colab": {
          "base_uri": "https://localhost:8080/"
        },
        "id": "7wIEBvXtkQmL",
        "outputId": "db4b29c2-2eba-44d8-f10c-54d436390b69"
      },
      "outputs": [
        {
          "output_type": "stream",
          "name": "stdout",
          "text": [
            "binary_score='yes'\n"
          ]
        }
      ],
      "source": [
        "import os\n",
        "os.environ[\"OPENAI_API_KEY\"] = \"Your API Key\"  # Replace with your actual API key\n",
        "\n",
        "from langchain_openai import ChatOpenAI\n",
        "from langchain_openai import OpenAI\n",
        "from langchain_core.prompts import ChatPromptTemplate\n",
        "from langchain_core.pydantic_v1 import BaseModel, Field\n",
        "\n",
        "\n",
        "class TransferNewsGrader(BaseModel):\n",
        "    \"\"\"Binary score for relevance check on football transfer news.\"\"\"\n",
        "\n",
        "    binary_score: str = Field(\n",
        "        description=\"The article is about football transfers, 'yes' or 'no'\"\n",
        "    )\n",
        "\n",
        "\n",
        "llm = ChatOpenAI(model=\"gpt-3.5-turbo-0125\", temperature=0)\n",
        "structured_llm_grader = llm.with_structured_output(TransferNewsGrader)\n",
        "\n",
        "system = \"\"\"You are a grader assessing whether a news article concerns a football transfer. \\n\n",
        "    Check if the article explicitly mentions player transfers between clubs, potential transfers, or confirmed transfers. \\n\n",
        "    Provide a binary score 'yes' or 'no' to indicate whether the news is about a football transfer.\"\"\"\n",
        "grade_prompt = ChatPromptTemplate.from_messages(\n",
        "    [(\"system\", system), (\"human\", \"News Article:\\n\\n {article}\")]\n",
        ")\n",
        "evaluator = grade_prompt | structured_llm_grader\n",
        "result = evaluator.invoke(\n",
        "    {\"article\": \"There are rumors messi will switch from real madrid to FC Barcelona\"}\n",
        ")\n",
        "\n",
        "print(result)"
      ]
    },
    {
      "cell_type": "code",
      "execution_count": 3,
      "metadata": {
        "id": "_ni2NhwHkQmN"
      },
      "outputs": [],
      "source": [
        "from langchain_openai import ChatOpenAI\n",
        "from langchain_core.prompts import ChatPromptTemplate\n",
        "from langchain_core.pydantic_v1 import BaseModel, Field\n",
        "\n",
        "\n",
        "class ArticlePostabilityGrader(BaseModel):\n",
        "    \"\"\"Binary scores for postability check, word count, sensationalism, and language verification of a news article.\"\"\"\n",
        "\n",
        "    can_be_posted: str = Field(\n",
        "        description=\"The article is ready to be posted, 'yes' or 'no'\"\n",
        "    )\n",
        "    meets_word_count: str = Field(\n",
        "        description=\"The article has at least 200 words, 'yes' or 'no'\"\n",
        "    )\n",
        "    is_sensationalistic: str = Field(\n",
        "        description=\"The article is written in a sensationalistic style, 'yes' or 'no'\"\n",
        "    )\n",
        "    is_language_german: str = Field(\n",
        "        description=\"The language of the article is German, 'yes' or 'no'\"\n",
        "    )\n",
        "\n",
        "\n",
        "llm_postability = ChatOpenAI(model=\"gpt-3.5-turbo-0125\", temperature=0)\n",
        "structured_llm_postability_grader = llm_postability.with_structured_output(\n",
        "    ArticlePostabilityGrader\n",
        ")\n",
        "\n",
        "postability_system = \"\"\"You are a grader assessing whether a news article is ready to be posted, if it meets the minimum word count of 200 words, is written in a sensationalistic style, and if it is in German. \\n\n",
        "    Evaluate the article for grammatical errors, completeness, appropriateness for publication, and EXAGERATED sensationalism. \\n\n",
        "    Also, confirm if the language used in the article is German and it meets the word count requirement. \\n\n",
        "    Provide four binary scores: one to indicate if the article can be posted ('yes' or 'no'), one for adequate word count ('yes' or 'no'), one for sensationalistic writing ('yes' or 'no'), and another if the language is German ('yes' or 'no').\"\"\"\n",
        "postability_grade_prompt = ChatPromptTemplate.from_messages(\n",
        "    [(\"system\", postability_system), (\"human\", \"News Article:\\n\\n {article}\")]\n",
        ")\n",
        "\n",
        "news_chef = postability_grade_prompt | structured_llm_postability_grader\n",
        "\n",
        "result = news_chef.invoke(\n",
        "    {\n",
        "        \"article\": \"Es wurde gemeldet, dass Messi von Real Madrid zu FC Barcelona wechselt.\"\n",
        "    }\n",
        ")"
      ]
    },
    {
      "cell_type": "code",
      "execution_count": 4,
      "metadata": {
        "colab": {
          "base_uri": "https://localhost:8080/"
        },
        "id": "O-ygp2ZIkQmO",
        "outputId": "9166e023-a42e-4f45-cf9f-aac81d02390a"
      },
      "outputs": [
        {
          "output_type": "stream",
          "name": "stdout",
          "text": [
            "content='Es wurde berichtet, dass Messi von Real Madrid zum FC Barcelona wechseln wird.' response_metadata={'token_usage': {'completion_tokens': 18, 'prompt_tokens': 51, 'total_tokens': 69}, 'model_name': 'gpt-3.5-turbo-0125', 'system_fingerprint': None, 'finish_reason': 'stop', 'logprobs': None} id='run-c669e45f-7883-4eb3-ba81-07f5485ae161-0' usage_metadata={'input_tokens': 51, 'output_tokens': 18, 'total_tokens': 69}\n"
          ]
        }
      ],
      "source": [
        "llm_translation = ChatOpenAI(model=\"gpt-3.5-turbo-0125\", temperature=0)\n",
        "\n",
        "translation_system = \"\"\"You are a translator converting articles into German. Translate the text accurately while maintaining the original tone and style.\"\"\"\n",
        "translation_prompt = ChatPromptTemplate.from_messages(\n",
        "    [(\"system\", translation_system), (\"human\", \"Article to translate:\\n\\n {article}\")]\n",
        ")\n",
        "\n",
        "translator = translation_prompt | llm_translation\n",
        "\n",
        "result = translator.invoke(\n",
        "    {\n",
        "        \"article\": \"It has been reported that Messi will transfer from Real Madrid to FC Barcelona.\"\n",
        "    }\n",
        ")\n",
        "print(result)"
      ]
    },
    {
      "cell_type": "code",
      "execution_count": 5,
      "metadata": {
        "colab": {
          "base_uri": "https://localhost:8080/"
        },
        "id": "ITZifNDokQmO",
        "outputId": "54c2acf1-4f03-4223-a9a7-cb4abafbe1b4"
      },
      "outputs": [
        {
          "output_type": "stream",
          "name": "stdout",
          "text": [
            "content=\"Reports have surfaced suggesting that Lionel Messi is contemplating a transfer from Real Madrid to FC Barcelona for the upcoming season. This potential move has sent shockwaves through the football world, as Messi has been a cornerstone of Real Madrid's success in recent years. If this transfer were to materialize, it would undoubtedly be one of the most significant transfers in football history, given Messi's iconic status and his long-standing association with Real Madrid.\\n\\nMessi's potential return to FC Barcelona, the club where he began his professional career and enjoyed immense success, would mark a homecoming of epic proportions. The prospect of seeing Messi don the Barcelona jersey once again has fans buzzing with excitement and anticipation. The rivalry between Real Madrid and FC Barcelona is one of the most intense in football, adding another layer of intrigue to this potential transfer.\\n\\nAs discussions and negotiations unfold behind the scenes, football enthusiasts around the world are eagerly awaiting confirmation of Messi's decision. The impact of his potential move on both clubs, as well as the broader football landscape, cannot be overstated. Messi's legacy transcends club allegiances, and his next move will undoubtedly shape the narrative of his illustrious career.\" response_metadata={'token_usage': {'completion_tokens': 232, 'prompt_tokens': 57, 'total_tokens': 289}, 'model_name': 'gpt-3.5-turbo-0125', 'system_fingerprint': None, 'finish_reason': 'stop', 'logprobs': None} id='run-beb1daaf-c9d1-4639-93c8-4de3579dd85c-0' usage_metadata={'input_tokens': 57, 'output_tokens': 232, 'total_tokens': 289}\n"
          ]
        }
      ],
      "source": [
        "llm_expansion = ChatOpenAI(model=\"gpt-3.5-turbo-0125\", temperature=0.5)\n",
        "expansion_system = \"\"\"You are a writer tasked with expanding the given article to at least 200 words while maintaining relevance, coherence, and the original tone.\"\"\"\n",
        "expansion_prompt = ChatPromptTemplate.from_messages(\n",
        "    [(\"system\", expansion_system), (\"human\", \"Original article:\\n\\n {article}\")]\n",
        ")\n",
        "\n",
        "expander = expansion_prompt | llm_expansion\n",
        "\n",
        "article_content = \"Lionel Messi is reportedly considering a move from Real Madrid to FC Barcelona next season.\"\n",
        "result = expander.invoke({\"article\": article_content})\n",
        "print(result)"
      ]
    },
    {
      "cell_type": "code",
      "source": [
        "!pip install langgraph"
      ],
      "metadata": {
        "colab": {
          "base_uri": "https://localhost:8080/"
        },
        "id": "DisPzq_yuwcd",
        "outputId": "d2519358-f7e5-4a00-a9b5-4476d18aa8a9"
      },
      "execution_count": 6,
      "outputs": [
        {
          "output_type": "stream",
          "name": "stdout",
          "text": [
            "Collecting langgraph\n",
            "  Downloading langgraph-0.1.19-py3-none-any.whl.metadata (13 kB)\n",
            "Requirement already satisfied: langchain-core<0.3,>=0.2.22 in /usr/local/lib/python3.10/dist-packages (from langgraph) (0.2.26)\n",
            "Requirement already satisfied: PyYAML>=5.3 in /usr/local/lib/python3.10/dist-packages (from langchain-core<0.3,>=0.2.22->langgraph) (6.0.1)\n",
            "Requirement already satisfied: jsonpatch<2.0,>=1.33 in /usr/local/lib/python3.10/dist-packages (from langchain-core<0.3,>=0.2.22->langgraph) (1.33)\n",
            "Requirement already satisfied: langsmith<0.2.0,>=0.1.75 in /usr/local/lib/python3.10/dist-packages (from langchain-core<0.3,>=0.2.22->langgraph) (0.1.95)\n",
            "Requirement already satisfied: packaging<25,>=23.2 in /usr/local/lib/python3.10/dist-packages (from langchain-core<0.3,>=0.2.22->langgraph) (24.1)\n",
            "Requirement already satisfied: pydantic<3,>=1 in /usr/local/lib/python3.10/dist-packages (from langchain-core<0.3,>=0.2.22->langgraph) (2.8.2)\n",
            "Requirement already satisfied: tenacity!=8.4.0,<9.0.0,>=8.1.0 in /usr/local/lib/python3.10/dist-packages (from langchain-core<0.3,>=0.2.22->langgraph) (8.5.0)\n",
            "Requirement already satisfied: typing-extensions>=4.7 in /usr/local/lib/python3.10/dist-packages (from langchain-core<0.3,>=0.2.22->langgraph) (4.12.2)\n",
            "Requirement already satisfied: jsonpointer>=1.9 in /usr/local/lib/python3.10/dist-packages (from jsonpatch<2.0,>=1.33->langchain-core<0.3,>=0.2.22->langgraph) (3.0.0)\n",
            "Requirement already satisfied: orjson<4.0.0,>=3.9.14 in /usr/local/lib/python3.10/dist-packages (from langsmith<0.2.0,>=0.1.75->langchain-core<0.3,>=0.2.22->langgraph) (3.10.6)\n",
            "Requirement already satisfied: requests<3,>=2 in /usr/local/lib/python3.10/dist-packages (from langsmith<0.2.0,>=0.1.75->langchain-core<0.3,>=0.2.22->langgraph) (2.31.0)\n",
            "Requirement already satisfied: annotated-types>=0.4.0 in /usr/local/lib/python3.10/dist-packages (from pydantic<3,>=1->langchain-core<0.3,>=0.2.22->langgraph) (0.7.0)\n",
            "Requirement already satisfied: pydantic-core==2.20.1 in /usr/local/lib/python3.10/dist-packages (from pydantic<3,>=1->langchain-core<0.3,>=0.2.22->langgraph) (2.20.1)\n",
            "Requirement already satisfied: charset-normalizer<4,>=2 in /usr/local/lib/python3.10/dist-packages (from requests<3,>=2->langsmith<0.2.0,>=0.1.75->langchain-core<0.3,>=0.2.22->langgraph) (3.3.2)\n",
            "Requirement already satisfied: idna<4,>=2.5 in /usr/local/lib/python3.10/dist-packages (from requests<3,>=2->langsmith<0.2.0,>=0.1.75->langchain-core<0.3,>=0.2.22->langgraph) (3.7)\n",
            "Requirement already satisfied: urllib3<3,>=1.21.1 in /usr/local/lib/python3.10/dist-packages (from requests<3,>=2->langsmith<0.2.0,>=0.1.75->langchain-core<0.3,>=0.2.22->langgraph) (2.0.7)\n",
            "Requirement already satisfied: certifi>=2017.4.17 in /usr/local/lib/python3.10/dist-packages (from requests<3,>=2->langsmith<0.2.0,>=0.1.75->langchain-core<0.3,>=0.2.22->langgraph) (2024.7.4)\n",
            "Downloading langgraph-0.1.19-py3-none-any.whl (102 kB)\n",
            "\u001b[?25l   \u001b[90m━━━━━━━━━━━━━━━━━━━━━━━━━━━━━━━━━━━━━━━━\u001b[0m \u001b[32m0.0/102.6 kB\u001b[0m \u001b[31m?\u001b[0m eta \u001b[36m-:--:--\u001b[0m\r\u001b[2K   \u001b[90m━━━━━━━━━━━━━━━━━━━━━━━━━━━━━━━━━━━━━━━━\u001b[0m \u001b[32m102.6/102.6 kB\u001b[0m \u001b[31m9.3 MB/s\u001b[0m eta \u001b[36m0:00:00\u001b[0m\n",
            "\u001b[?25hInstalling collected packages: langgraph\n",
            "Successfully installed langgraph-0.1.19\n"
          ]
        }
      ]
    },
    {
      "cell_type": "code",
      "execution_count": 7,
      "metadata": {
        "id": "GqRhcHczkQmP"
      },
      "outputs": [],
      "source": [
        "from langgraph.graph import StateGraph, END\n",
        "from typing import TypedDict, Literal\n",
        "\n",
        "\n",
        "class AgentState(TypedDict):\n",
        "    article_state: str"
      ]
    },
    {
      "cell_type": "code",
      "execution_count": 8,
      "metadata": {
        "id": "Xr3i4fFckQmP"
      },
      "outputs": [],
      "source": [
        "def get_transfer_news_grade(state: AgentState) -> AgentState:\n",
        "    print(f\"get_transfer_news_grade: Current state: {state}\")\n",
        "    print(\"Evaluator: Reading article but doing nothing to change it...\")\n",
        "    return state"
      ]
    },
    {
      "cell_type": "code",
      "execution_count": 15,
      "metadata": {
        "id": "LGGe8DD2kQmP"
      },
      "outputs": [],
      "source": [
        "def evaluate_article(state: AgentState) -> AgentState:\n",
        "    print(f\"evaluate_article: Current state: {state}\")\n",
        "    print(\"News : Reading article but doing nothing to change it...\")\n",
        "    return state"
      ]
    },
    {
      "cell_type": "code",
      "execution_count": 9,
      "metadata": {
        "id": "AKFPXpdOkQmQ"
      },
      "outputs": [],
      "source": [
        "def translate_article(state: AgentState) -> AgentState:\n",
        "    print(f\"translate_article: Current state: {state}\")\n",
        "    article = state[\"article_state\"]\n",
        "    result = translator.invoke({\"article\": article})\n",
        "    state[\"article_state\"] = result.content\n",
        "    return state"
      ]
    },
    {
      "cell_type": "code",
      "execution_count": 10,
      "metadata": {
        "id": "-XvsjYDjkQmQ"
      },
      "outputs": [],
      "source": [
        "def expand_article(state: AgentState) -> AgentState:\n",
        "    print(f\"expand_article: Current state: {state}\")\n",
        "    article = state[\"article_state\"]\n",
        "    result = expander.invoke({\"article\": article})\n",
        "    state[\"article_state\"] = result.content\n",
        "    return state"
      ]
    },
    {
      "cell_type": "code",
      "execution_count": 11,
      "metadata": {
        "id": "UPS_CLqLkQmQ"
      },
      "outputs": [],
      "source": [
        "def publisher(state: AgentState) -> AgentState:\n",
        "    print(f\"publisher: Current state: {state}\")\n",
        "    print(\"FINAL_STATE in publisher:\", state)\n",
        "    return state"
      ]
    },
    {
      "cell_type": "code",
      "execution_count": 12,
      "metadata": {
        "id": "RpzuMy1TkQmR"
      },
      "outputs": [],
      "source": [
        "def evaluator_router(state: AgentState) -> Literal[\"news_chef\", \"not_relevant\"]:\n",
        "    article = state[\"article_state\"]\n",
        "    evaluator = grade_prompt | structured_llm_grader\n",
        "    result = evaluator.invoke({\"article\": article})\n",
        "    print(f\"evaluator_router: Current state: {state}\")\n",
        "    print(\"Evaluator result: \", result)\n",
        "    if result.binary_score == \"yes\":\n",
        "        return \"news_chef\"\n",
        "    else:\n",
        "        return \"not_relevant\""
      ]
    },
    {
      "cell_type": "code",
      "execution_count": 13,
      "metadata": {
        "id": "E0s_-N0IkQmR"
      },
      "outputs": [],
      "source": [
        "def news_chef_router(\n",
        "    state: AgentState,\n",
        ") -> Literal[\"translator\", \"publisher\", \"expander\"]:\n",
        "    article = state[\"article_state\"]\n",
        "    result = news_chef.invoke({\"article\": article})\n",
        "    print(f\"news_chef_router: Current state: {state}\")\n",
        "    print(\"News chef result: \", result)\n",
        "    if result.can_be_posted == \"yes\":\n",
        "        return \"publisher\"\n",
        "    elif result.is_language_german == \"yes\":\n",
        "        if result.meets_word_count == \"no\" or result.is_sensationalistic == \"no\":\n",
        "            return \"expander\"\n",
        "    return \"translator\""
      ]
    },
    {
      "cell_type": "code",
      "execution_count": 16,
      "metadata": {
        "id": "zs9nEeP5kQmR"
      },
      "outputs": [],
      "source": [
        "workflow = StateGraph(AgentState)\n",
        "\n",
        "workflow.add_node(\"evaluator\", get_transfer_news_grade)\n",
        "workflow.add_node(\"news_chef\", evaluate_article)\n",
        "workflow.add_node(\"translator\", translate_article)\n",
        "workflow.add_node(\"expander\", expand_article)\n",
        "workflow.add_node(\"publisher\", publisher)\n",
        "\n",
        "workflow.set_entry_point(\"evaluator\")\n",
        "\n",
        "workflow.add_conditional_edges(\n",
        "    \"evaluator\", evaluator_router, {\"news_chef\": \"news_chef\", \"not_relevant\": END}\n",
        ")\n",
        "workflow.add_conditional_edges(\n",
        "    \"news_chef\",\n",
        "    news_chef_router,\n",
        "    {\"translator\": \"translator\", \"publisher\": \"publisher\", \"expander\": \"expander\"},\n",
        ")\n",
        "workflow.add_edge(\"translator\", \"news_chef\")\n",
        "workflow.add_edge(\"expander\", \"news_chef\")\n",
        "workflow.add_edge(\"publisher\", END)\n",
        "\n",
        "app = workflow.compile()"
      ]
    },
    {
      "cell_type": "code",
      "execution_count": 17,
      "metadata": {
        "colab": {
          "base_uri": "https://localhost:8080/",
          "height": 423
        },
        "id": "NDiGhvC8kQmR",
        "outputId": "f503a748-47ee-4b5c-a29c-103bbcf3f23c"
      },
      "outputs": [
        {
          "output_type": "display_data",
          "data": {
            "image/jpeg": "[encoded data removed]",
            "text/plain": [
              "<IPython.core.display.Image object>"
            ]
          },
          "metadata": {}
        }
      ],
      "source": [
        "from IPython.display import Image, display\n",
        "\n",
        "try:\n",
        "    display(Image(app.get_graph(xray=True).draw_mermaid_png()))\n",
        "except:\n",
        "    pass"
      ]
    },
    {
      "cell_type": "code",
      "execution_count": 18,
      "metadata": {
        "colab": {
          "base_uri": "https://localhost:8080/"
        },
        "id": "kuarJJv8kQmR",
        "outputId": "f2dade3a-36bb-4d98-da56-4445d8c2abcc"
      },
      "outputs": [
        {
          "output_type": "stream",
          "name": "stdout",
          "text": [
            "get_transfer_news_grade: Current state: {'article_state': 'The Pope will visit Spain today'}\n",
            "Evaluator: Reading article but doing nothing to change it...\n",
            "evaluator_router: Current state: {'article_state': 'The Pope will visit Spain today'}\n",
            "Evaluator result:  binary_score='no'\n",
            "Final result: {'article_state': 'The Pope will visit Spain today'}\n"
          ]
        }
      ],
      "source": [
        "initial_state = {\"article_state\": \"The Pope will visit Spain today\"}\n",
        "result = app.invoke(initial_state)\n",
        "\n",
        "print(\"Final result:\", result)"
      ]
    },
    {
      "cell_type": "code",
      "execution_count": 19,
      "metadata": {
        "colab": {
          "base_uri": "https://localhost:8080/"
        },
        "id": "AuUml4hokQmR",
        "outputId": "acf368e1-4101-4839-e462-fc091bfbd706"
      },
      "outputs": [
        {
          "output_type": "stream",
          "name": "stdout",
          "text": [
            "get_transfer_news_grade: Current state: {'article_state': 'Messi gonna switch from barca to real madrid'}\n",
            "Evaluator: Reading article but doing nothing to change it...\n",
            "evaluator_router: Current state: {'article_state': 'Messi gonna switch from barca to real madrid'}\n",
            "Evaluator result:  binary_score='yes'\n",
            "evaluate_article: Current state: {'article_state': 'Messi gonna switch from barca to real madrid'}\n",
            "News : Reading article but doing nothing to change it...\n",
            "news_chef_router: Current state: {'article_state': 'Messi gonna switch from barca to real madrid'}\n",
            "News chef result:  can_be_posted='no' meets_word_count='no' is_sensationalistic='yes' is_language_german='no'\n",
            "translate_article: Current state: {'article_state': 'Messi gonna switch from barca to real madrid'}\n",
            "evaluate_article: Current state: {'article_state': 'Messi wechselt von Barca zu Real Madrid'}\n",
            "News : Reading article but doing nothing to change it...\n",
            "news_chef_router: Current state: {'article_state': 'Messi wechselt von Barca zu Real Madrid'}\n",
            "News chef result:  can_be_posted='no' meets_word_count='no' is_sensationalistic='no' is_language_german='yes'\n",
            "expand_article: Current state: {'article_state': 'Messi wechselt von Barca zu Real Madrid'}\n",
            "evaluate_article: Current state: {'article_state': 'Die Fußballwelt wurde kürzlich von einer bahnbrechenden Nachricht erschüttert, als Lionel Messi bekannt gab, dass er von Barcelona zu Real Madrid wechseln wird. Dieser Transfer markiert das Ende einer Ära, da Messi jahrelang das Gesicht von Barcelona war und zu einer Legende des Vereins wurde. Seine Entscheidung, zu Real Madrid zu wechseln, hat sowohl bei Fans als auch bei Experten für Aufsehen gesorgt.\\n\\nMessi, der als einer der besten Fußballspieler aller Zeiten gilt, wird nun das berühmte weiße Trikot von Real Madrid tragen. Dieser Wechsel verspricht, die Dynamik des spanischen Fußballs zu verändern und die Rivalität zwischen den beiden Vereinen auf ein neues Level zu heben. Die Fans auf der ganzen Welt sind gespannt darauf, Messi in Aktion zu sehen, wenn er sich in das Team von Real Madrid einfügt und sich auf dem Platz beweist.\\n\\nEs wird interessant sein zu beobachten, wie Messi sich an sein neues Team anpasst und wie sich seine Anwesenheit auf die Leistung von Real Madrid auswirken wird. Wird er in der Lage sein, seine Magie auch im Trikot von Real Madrid zu entfalten? Diese Fragen werden in den kommenden Wochen und Monaten zweifellos die Schlagzeilen beherrschen.'}\n",
            "News : Reading article but doing nothing to change it...\n",
            "news_chef_router: Current state: {'article_state': 'Die Fußballwelt wurde kürzlich von einer bahnbrechenden Nachricht erschüttert, als Lionel Messi bekannt gab, dass er von Barcelona zu Real Madrid wechseln wird. Dieser Transfer markiert das Ende einer Ära, da Messi jahrelang das Gesicht von Barcelona war und zu einer Legende des Vereins wurde. Seine Entscheidung, zu Real Madrid zu wechseln, hat sowohl bei Fans als auch bei Experten für Aufsehen gesorgt.\\n\\nMessi, der als einer der besten Fußballspieler aller Zeiten gilt, wird nun das berühmte weiße Trikot von Real Madrid tragen. Dieser Wechsel verspricht, die Dynamik des spanischen Fußballs zu verändern und die Rivalität zwischen den beiden Vereinen auf ein neues Level zu heben. Die Fans auf der ganzen Welt sind gespannt darauf, Messi in Aktion zu sehen, wenn er sich in das Team von Real Madrid einfügt und sich auf dem Platz beweist.\\n\\nEs wird interessant sein zu beobachten, wie Messi sich an sein neues Team anpasst und wie sich seine Anwesenheit auf die Leistung von Real Madrid auswirken wird. Wird er in der Lage sein, seine Magie auch im Trikot von Real Madrid zu entfalten? Diese Fragen werden in den kommenden Wochen und Monaten zweifellos die Schlagzeilen beherrschen.'}\n",
            "News chef result:  can_be_posted='yes' meets_word_count='yes' is_sensationalistic='yes' is_language_german='yes'\n",
            "publisher: Current state: {'article_state': 'Die Fußballwelt wurde kürzlich von einer bahnbrechenden Nachricht erschüttert, als Lionel Messi bekannt gab, dass er von Barcelona zu Real Madrid wechseln wird. Dieser Transfer markiert das Ende einer Ära, da Messi jahrelang das Gesicht von Barcelona war und zu einer Legende des Vereins wurde. Seine Entscheidung, zu Real Madrid zu wechseln, hat sowohl bei Fans als auch bei Experten für Aufsehen gesorgt.\\n\\nMessi, der als einer der besten Fußballspieler aller Zeiten gilt, wird nun das berühmte weiße Trikot von Real Madrid tragen. Dieser Wechsel verspricht, die Dynamik des spanischen Fußballs zu verändern und die Rivalität zwischen den beiden Vereinen auf ein neues Level zu heben. Die Fans auf der ganzen Welt sind gespannt darauf, Messi in Aktion zu sehen, wenn er sich in das Team von Real Madrid einfügt und sich auf dem Platz beweist.\\n\\nEs wird interessant sein zu beobachten, wie Messi sich an sein neues Team anpasst und wie sich seine Anwesenheit auf die Leistung von Real Madrid auswirken wird. Wird er in der Lage sein, seine Magie auch im Trikot von Real Madrid zu entfalten? Diese Fragen werden in den kommenden Wochen und Monaten zweifellos die Schlagzeilen beherrschen.'}\n",
            "FINAL_STATE in publisher: {'article_state': 'Die Fußballwelt wurde kürzlich von einer bahnbrechenden Nachricht erschüttert, als Lionel Messi bekannt gab, dass er von Barcelona zu Real Madrid wechseln wird. Dieser Transfer markiert das Ende einer Ära, da Messi jahrelang das Gesicht von Barcelona war und zu einer Legende des Vereins wurde. Seine Entscheidung, zu Real Madrid zu wechseln, hat sowohl bei Fans als auch bei Experten für Aufsehen gesorgt.\\n\\nMessi, der als einer der besten Fußballspieler aller Zeiten gilt, wird nun das berühmte weiße Trikot von Real Madrid tragen. Dieser Wechsel verspricht, die Dynamik des spanischen Fußballs zu verändern und die Rivalität zwischen den beiden Vereinen auf ein neues Level zu heben. Die Fans auf der ganzen Welt sind gespannt darauf, Messi in Aktion zu sehen, wenn er sich in das Team von Real Madrid einfügt und sich auf dem Platz beweist.\\n\\nEs wird interessant sein zu beobachten, wie Messi sich an sein neues Team anpasst und wie sich seine Anwesenheit auf die Leistung von Real Madrid auswirken wird. Wird er in der Lage sein, seine Magie auch im Trikot von Real Madrid zu entfalten? Diese Fragen werden in den kommenden Wochen und Monaten zweifellos die Schlagzeilen beherrschen.'}\n",
            "Final result: {'article_state': 'Die Fußballwelt wurde kürzlich von einer bahnbrechenden Nachricht erschüttert, als Lionel Messi bekannt gab, dass er von Barcelona zu Real Madrid wechseln wird. Dieser Transfer markiert das Ende einer Ära, da Messi jahrelang das Gesicht von Barcelona war und zu einer Legende des Vereins wurde. Seine Entscheidung, zu Real Madrid zu wechseln, hat sowohl bei Fans als auch bei Experten für Aufsehen gesorgt.\\n\\nMessi, der als einer der besten Fußballspieler aller Zeiten gilt, wird nun das berühmte weiße Trikot von Real Madrid tragen. Dieser Wechsel verspricht, die Dynamik des spanischen Fußballs zu verändern und die Rivalität zwischen den beiden Vereinen auf ein neues Level zu heben. Die Fans auf der ganzen Welt sind gespannt darauf, Messi in Aktion zu sehen, wenn er sich in das Team von Real Madrid einfügt und sich auf dem Platz beweist.\\n\\nEs wird interessant sein zu beobachten, wie Messi sich an sein neues Team anpasst und wie sich seine Anwesenheit auf die Leistung von Real Madrid auswirken wird. Wird er in der Lage sein, seine Magie auch im Trikot von Real Madrid zu entfalten? Diese Fragen werden in den kommenden Wochen und Monaten zweifellos die Schlagzeilen beherrschen.'}\n"
          ]
        }
      ],
      "source": [
        "initial_state = {\"article_state\": \"Messi gonna switch from barca to real madrid\"}\n",
        "result = app.invoke(initial_state)\n",
        "\n",
        "print(\"Final result:\", result)"
      ]
    },
    {
      "cell_type": "code",
      "source": [],
      "metadata": {
        "id": "6I6lyX3ku0gZ"
      },
      "execution_count": null,
      "outputs": []
    }
  ],
  "metadata": {
    "kernelspec": {
      "display_name": "Python 3",
      "name": "python3"
    },
    "language_info": {
      "codemirror_mode": {
        "name": "ipython",
        "version": 3
      },
      "file_extension": ".py",
      "mimetype": "text/x-python",
      "name": "python",
      "nbconvert_exporter": "python",
      "pygments_lexer": "ipython3",
      "version": "3.11.0"
    },
    "colab": {
      "provenance": [],
      "gpuType": "T4"
    },
    "accelerator": "GPU"
  },
  "nbformat": 4,
  "nbformat_minor": 0
}