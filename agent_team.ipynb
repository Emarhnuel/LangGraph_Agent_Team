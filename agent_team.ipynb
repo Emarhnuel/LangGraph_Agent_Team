{
  "cells": [
    {
      "cell_type": "markdown",
      "metadata": {
        "id": "dPY_PmZCkQmI"
      },
      "source": [
        "### Team of Agents with a supervisor"
      ]
    },
    {
      "cell_type": "code",
      "source": [
        "!pip install langchain-openai"
      ],
      "metadata": {
        "colab": {
          "base_uri": "https://localhost:8080/"
        },
        "id": "is_LHJWMr0mo",
        "outputId": "0c6133b4-cf34-41da-b4da-e2ba41eafb02"
      },
      "execution_count": 32,
      "outputs": [
        {
          "output_type": "stream",
          "name": "stdout",
          "text": [
            "Requirement already satisfied: langchain-openai in /usr/local/lib/python3.10/dist-packages (0.1.20)\n",
            "Requirement already satisfied: langchain-core<0.3.0,>=0.2.26 in /usr/local/lib/python3.10/dist-packages (from langchain-openai) (0.2.26)\n",
            "Requirement already satisfied: openai<2.0.0,>=1.32.0 in /usr/local/lib/python3.10/dist-packages (from langchain-openai) (1.37.1)\n",
            "Requirement already satisfied: tiktoken<1,>=0.7 in /usr/local/lib/python3.10/dist-packages (from langchain-openai) (0.7.0)\n",
            "Requirement already satisfied: PyYAML>=5.3 in /usr/local/lib/python3.10/dist-packages (from langchain-core<0.3.0,>=0.2.26->langchain-openai) (6.0.1)\n",
            "Requirement already satisfied: jsonpatch<2.0,>=1.33 in /usr/local/lib/python3.10/dist-packages (from langchain-core<0.3.0,>=0.2.26->langchain-openai) (1.33)\n",
            "Requirement already satisfied: langsmith<0.2.0,>=0.1.75 in /usr/local/lib/python3.10/dist-packages (from langchain-core<0.3.0,>=0.2.26->langchain-openai) (0.1.95)\n",
            "Requirement already satisfied: packaging<25,>=23.2 in /usr/local/lib/python3.10/dist-packages (from langchain-core<0.3.0,>=0.2.26->langchain-openai) (24.1)\n",
            "Requirement already satisfied: pydantic<3,>=1 in /usr/local/lib/python3.10/dist-packages (from langchain-core<0.3.0,>=0.2.26->langchain-openai) (2.8.2)\n",
            "Requirement already satisfied: tenacity!=8.4.0,<9.0.0,>=8.1.0 in /usr/local/lib/python3.10/dist-packages (from langchain-core<0.3.0,>=0.2.26->langchain-openai) (8.5.0)\n",
            "Requirement already satisfied: typing-extensions>=4.7 in /usr/local/lib/python3.10/dist-packages (from langchain-core<0.3.0,>=0.2.26->langchain-openai) (4.12.2)\n",
            "Requirement already satisfied: anyio<5,>=3.5.0 in /usr/local/lib/python3.10/dist-packages (from openai<2.0.0,>=1.32.0->langchain-openai) (3.7.1)\n",
            "Requirement already satisfied: distro<2,>=1.7.0 in /usr/lib/python3/dist-packages (from openai<2.0.0,>=1.32.0->langchain-openai) (1.7.0)\n",
            "Requirement already satisfied: httpx<1,>=0.23.0 in /usr/local/lib/python3.10/dist-packages (from openai<2.0.0,>=1.32.0->langchain-openai) (0.27.0)\n",
            "Requirement already satisfied: sniffio in /usr/local/lib/python3.10/dist-packages (from openai<2.0.0,>=1.32.0->langchain-openai) (1.3.1)\n",
            "Requirement already satisfied: tqdm>4 in /usr/local/lib/python3.10/dist-packages (from openai<2.0.0,>=1.32.0->langchain-openai) (4.66.4)\n",
            "Requirement already satisfied: regex>=2022.1.18 in /usr/local/lib/python3.10/dist-packages (from tiktoken<1,>=0.7->langchain-openai) (2024.5.15)\n",
            "Requirement already satisfied: requests>=2.26.0 in /usr/local/lib/python3.10/dist-packages (from tiktoken<1,>=0.7->langchain-openai) (2.31.0)\n",
            "Requirement already satisfied: idna>=2.8 in /usr/local/lib/python3.10/dist-packages (from anyio<5,>=3.5.0->openai<2.0.0,>=1.32.0->langchain-openai) (3.7)\n",
            "Requirement already satisfied: exceptiongroup in /usr/local/lib/python3.10/dist-packages (from anyio<5,>=3.5.0->openai<2.0.0,>=1.32.0->langchain-openai) (1.2.2)\n",
            "Requirement already satisfied: certifi in /usr/local/lib/python3.10/dist-packages (from httpx<1,>=0.23.0->openai<2.0.0,>=1.32.0->langchain-openai) (2024.7.4)\n",
            "Requirement already satisfied: httpcore==1.* in /usr/local/lib/python3.10/dist-packages (from httpx<1,>=0.23.0->openai<2.0.0,>=1.32.0->langchain-openai) (1.0.5)\n",
            "Requirement already satisfied: h11<0.15,>=0.13 in /usr/local/lib/python3.10/dist-packages (from httpcore==1.*->httpx<1,>=0.23.0->openai<2.0.0,>=1.32.0->langchain-openai) (0.14.0)\n",
            "Requirement already satisfied: jsonpointer>=1.9 in /usr/local/lib/python3.10/dist-packages (from jsonpatch<2.0,>=1.33->langchain-core<0.3.0,>=0.2.26->langchain-openai) (3.0.0)\n",
            "Requirement already satisfied: orjson<4.0.0,>=3.9.14 in /usr/local/lib/python3.10/dist-packages (from langsmith<0.2.0,>=0.1.75->langchain-core<0.3.0,>=0.2.26->langchain-openai) (3.10.6)\n",
            "Requirement already satisfied: annotated-types>=0.4.0 in /usr/local/lib/python3.10/dist-packages (from pydantic<3,>=1->langchain-core<0.3.0,>=0.2.26->langchain-openai) (0.7.0)\n",
            "Requirement already satisfied: pydantic-core==2.20.1 in /usr/local/lib/python3.10/dist-packages (from pydantic<3,>=1->langchain-core<0.3.0,>=0.2.26->langchain-openai) (2.20.1)\n",
            "Requirement already satisfied: charset-normalizer<4,>=2 in /usr/local/lib/python3.10/dist-packages (from requests>=2.26.0->tiktoken<1,>=0.7->langchain-openai) (3.3.2)\n",
            "Requirement already satisfied: urllib3<3,>=1.21.1 in /usr/local/lib/python3.10/dist-packages (from requests>=2.26.0->tiktoken<1,>=0.7->langchain-openai) (2.0.7)\n"
          ]
        }
      ]
    },
    {
      "cell_type": "code",
      "execution_count": 13,
      "metadata": {
        "colab": {
          "base_uri": "https://localhost:8080/"
        },
        "id": "7wIEBvXtkQmL",
        "outputId": "02350a0b-6f6c-4538-a21d-85666de07b6b"
      },
      "outputs": [
        {
          "output_type": "stream",
          "name": "stdout",
          "text": [
            "binary_score='yes'\n"
          ]
        }
      ],
      "source": [
        "import os\n",
        "os.environ[\"OPENAI_API_KEY\"] = \"sk-proj-uo7GHy6IhCGmKE7yAASkT3BlbkFJX7hMBbG7BPH8DycwpT5b\"  # Replace with your actual API key\n",
        "\n",
        "from langchain_openai import ChatOpenAI\n",
        "from langchain_openai import OpenAI\n",
        "from langchain_core.prompts import ChatPromptTemplate\n",
        "from langchain_core.pydantic_v1 import BaseModel, Field\n",
        "\n",
        "\n",
        "class TransferNewsGrader(BaseModel):\n",
        "    \"\"\"Binary score for relevance check on football transfer news.\"\"\"\n",
        "\n",
        "    binary_score: str = Field(\n",
        "        description=\"The article is about football transfers, 'yes' or 'no'\"\n",
        "    )\n",
        "\n",
        "\n",
        "llm = ChatOpenAI(model=\"gpt-3.5-turbo-0125\", temperature=0)\n",
        "structured_llm_grader = llm.with_structured_output(TransferNewsGrader)\n",
        "\n",
        "system = \"\"\"You are a grader assessing whether a news article concerns a football transfer. \\n\n",
        "    Check if the article explicitly mentions player transfers between clubs, potential transfers, or confirmed transfers. \\n\n",
        "    Provide a binary score 'yes' or 'no' to indicate whether the news is about a football transfer.\"\"\"\n",
        "grade_prompt = ChatPromptTemplate.from_messages(\n",
        "    [(\"system\", system), (\"human\", \"News Article:\\n\\n {article}\")]\n",
        ")\n",
        "evaluator = grade_prompt | structured_llm_grader\n",
        "result = evaluator.invoke(\n",
        "    {\"article\": \"There are rumors messi will switch from real madrid to FC Barcelona\"}\n",
        ")\n",
        "\n",
        "print(result)"
      ]
    },
    {
      "cell_type": "code",
      "execution_count": 14,
      "metadata": {
        "id": "_ni2NhwHkQmN"
      },
      "outputs": [],
      "source": [
        "from langchain_openai import ChatOpenAI\n",
        "from langchain_core.prompts import ChatPromptTemplate\n",
        "from langchain_core.pydantic_v1 import BaseModel, Field\n",
        "\n",
        "\n",
        "class ArticlePostabilityGrader(BaseModel):\n",
        "    \"\"\"Binary scores for postability check, word count, sensationalism, and language verification of a news article.\"\"\"\n",
        "\n",
        "    can_be_posted: str = Field(\n",
        "        description=\"The article is ready to be posted, 'yes' or 'no'\"\n",
        "    )\n",
        "    meets_word_count: str = Field(\n",
        "        description=\"The article has at least 200 words, 'yes' or 'no'\"\n",
        "    )\n",
        "    is_sensationalistic: str = Field(\n",
        "        description=\"The article is written in a sensationalistic style, 'yes' or 'no'\"\n",
        "    )\n",
        "    is_language_german: str = Field(\n",
        "        description=\"The language of the article is German, 'yes' or 'no'\"\n",
        "    )\n",
        "\n",
        "\n",
        "llm_postability = ChatOpenAI(model=\"gpt-3.5-turbo-0125\", temperature=0)\n",
        "structured_llm_postability_grader = llm_postability.with_structured_output(\n",
        "    ArticlePostabilityGrader\n",
        ")\n",
        "\n",
        "postability_system = \"\"\"You are a grader assessing whether a news article is ready to be posted, if it meets the minimum word count of 200 words, is written in a sensationalistic style, and if it is in German. \\n\n",
        "    Evaluate the article for grammatical errors, completeness, appropriateness for publication, and EXAGERATED sensationalism. \\n\n",
        "    Also, confirm if the language used in the article is German and it meets the word count requirement. \\n\n",
        "    Provide four binary scores: one to indicate if the article can be posted ('yes' or 'no'), one for adequate word count ('yes' or 'no'), one for sensationalistic writing ('yes' or 'no'), and another if the language is German ('yes' or 'no').\"\"\"\n",
        "postability_grade_prompt = ChatPromptTemplate.from_messages(\n",
        "    [(\"system\", postability_system), (\"human\", \"News Article:\\n\\n {article}\")]\n",
        ")\n",
        "\n",
        "news_chef = postability_grade_prompt | structured_llm_postability_grader\n",
        "\n",
        "result = news_chef.invoke(\n",
        "    {\n",
        "        \"article\": \"Es wurde gemeldet, dass Messi von Real Madrid zu FC Barcelona wechselt.\"\n",
        "    }\n",
        ")"
      ]
    },
    {
      "cell_type": "code",
      "execution_count": 15,
      "metadata": {
        "colab": {
          "base_uri": "https://localhost:8080/"
        },
        "id": "O-ygp2ZIkQmO",
        "outputId": "609baa32-a7ab-4c77-bf1e-f037f8a8de4a"
      },
      "outputs": [
        {
          "output_type": "stream",
          "name": "stdout",
          "text": [
            "content='Es wurde berichtet, dass Messi von Real Madrid zum FC Barcelona wechseln wird.' response_metadata={'token_usage': {'completion_tokens': 18, 'prompt_tokens': 51, 'total_tokens': 69}, 'model_name': 'gpt-3.5-turbo-0125', 'system_fingerprint': None, 'finish_reason': 'stop', 'logprobs': None} id='run-8e228c76-d382-4d7d-8e2d-3e8365292f5f-0' usage_metadata={'input_tokens': 51, 'output_tokens': 18, 'total_tokens': 69}\n"
          ]
        }
      ],
      "source": [
        "llm_translation = ChatOpenAI(model=\"gpt-3.5-turbo-0125\", temperature=0)\n",
        "\n",
        "translation_system = \"\"\"You are a translator converting articles into German. Translate the text accurately while maintaining the original tone and style.\"\"\"\n",
        "translation_prompt = ChatPromptTemplate.from_messages(\n",
        "    [(\"system\", translation_system), (\"human\", \"Article to translate:\\n\\n {article}\")]\n",
        ")\n",
        "\n",
        "translator = translation_prompt | llm_translation\n",
        "\n",
        "result = translator.invoke(\n",
        "    {\n",
        "        \"article\": \"It has been reported that Messi will transfer from Real Madrid to FC Barcelona.\"\n",
        "    }\n",
        ")\n",
        "print(result)"
      ]
    },
    {
      "cell_type": "code",
      "execution_count": 16,
      "metadata": {
        "colab": {
          "base_uri": "https://localhost:8080/"
        },
        "id": "ITZifNDokQmO",
        "outputId": "6244b53c-8a56-43c6-b311-1b6a6c4d4eff"
      },
      "outputs": [
        {
          "output_type": "stream",
          "name": "stdout",
          "text": [
            "content=\"Recent reports have suggested that Lionel Messi, one of the world's most renowned footballers, is contemplating a transfer from Real Madrid to FC Barcelona for the upcoming season. This potential move has sparked immense interest and speculation among fans and pundits alike.\\n\\nMessi, often hailed as one of the greatest footballers of all time, has had a storied career with Real Madrid, achieving numerous accolades and records during his time with the club. A move to Barcelona, a rival team with a historic rivalry with Real Madrid, would undoubtedly be a significant and controversial decision if it were to come to fruition.\\n\\nThe prospect of Messi donning the colors of Barcelona once again has stirred excitement among Barcelona supporters, who fondly remember his previous successes with the club. On the other hand, Real Madrid fans are grappling with the possibility of seeing their star player switch allegiances to their arch-rivals.\\n\\nAs the football world eagerly awaits Messi's final decision, the potential transfer has added an extra layer of drama and anticipation to the upcoming season. Only time will tell where Messi's future lies and how this rumored move will impact the landscape of elite football.\" response_metadata={'token_usage': {'completion_tokens': 226, 'prompt_tokens': 57, 'total_tokens': 283}, 'model_name': 'gpt-3.5-turbo-0125', 'system_fingerprint': None, 'finish_reason': 'stop', 'logprobs': None} id='run-8bf37a8b-4f54-405a-b047-c14175e064ff-0' usage_metadata={'input_tokens': 57, 'output_tokens': 226, 'total_tokens': 283}\n"
          ]
        }
      ],
      "source": [
        "llm_expansion = ChatOpenAI(model=\"gpt-3.5-turbo-0125\", temperature=0.5)\n",
        "expansion_system = \"\"\"You are a writer tasked with expanding the given article to at least 200 words while maintaining relevance, coherence, and the original tone.\"\"\"\n",
        "expansion_prompt = ChatPromptTemplate.from_messages(\n",
        "    [(\"system\", expansion_system), (\"human\", \"Original article:\\n\\n {article}\")]\n",
        ")\n",
        "\n",
        "expander = expansion_prompt | llm_expansion\n",
        "\n",
        "article_content = \"Lionel Messi is reportedly considering a move from Real Madrid to FC Barcelona next season.\"\n",
        "result = expander.invoke({\"article\": article_content})\n",
        "print(result)"
      ]
    },
    {
      "cell_type": "code",
      "source": [
        "!pip install langgraph"
      ],
      "metadata": {
        "colab": {
          "base_uri": "https://localhost:8080/"
        },
        "id": "DisPzq_yuwcd",
        "outputId": "5243b7bf-2648-499c-be42-5ef6bcf3b776"
      },
      "execution_count": 19,
      "outputs": [
        {
          "output_type": "stream",
          "name": "stdout",
          "text": [
            "Requirement already satisfied: langgraph in /usr/local/lib/python3.10/dist-packages (0.1.19)\n",
            "Requirement already satisfied: langchain-core<0.3,>=0.2.22 in /usr/local/lib/python3.10/dist-packages (from langgraph) (0.2.26)\n",
            "Requirement already satisfied: PyYAML>=5.3 in /usr/local/lib/python3.10/dist-packages (from langchain-core<0.3,>=0.2.22->langgraph) (6.0.1)\n",
            "Requirement already satisfied: jsonpatch<2.0,>=1.33 in /usr/local/lib/python3.10/dist-packages (from langchain-core<0.3,>=0.2.22->langgraph) (1.33)\n",
            "Requirement already satisfied: langsmith<0.2.0,>=0.1.75 in /usr/local/lib/python3.10/dist-packages (from langchain-core<0.3,>=0.2.22->langgraph) (0.1.95)\n",
            "Requirement already satisfied: packaging<25,>=23.2 in /usr/local/lib/python3.10/dist-packages (from langchain-core<0.3,>=0.2.22->langgraph) (24.1)\n",
            "Requirement already satisfied: pydantic<3,>=1 in /usr/local/lib/python3.10/dist-packages (from langchain-core<0.3,>=0.2.22->langgraph) (2.8.2)\n",
            "Requirement already satisfied: tenacity!=8.4.0,<9.0.0,>=8.1.0 in /usr/local/lib/python3.10/dist-packages (from langchain-core<0.3,>=0.2.22->langgraph) (8.5.0)\n",
            "Requirement already satisfied: typing-extensions>=4.7 in /usr/local/lib/python3.10/dist-packages (from langchain-core<0.3,>=0.2.22->langgraph) (4.12.2)\n",
            "Requirement already satisfied: jsonpointer>=1.9 in /usr/local/lib/python3.10/dist-packages (from jsonpatch<2.0,>=1.33->langchain-core<0.3,>=0.2.22->langgraph) (3.0.0)\n",
            "Requirement already satisfied: orjson<4.0.0,>=3.9.14 in /usr/local/lib/python3.10/dist-packages (from langsmith<0.2.0,>=0.1.75->langchain-core<0.3,>=0.2.22->langgraph) (3.10.6)\n",
            "Requirement already satisfied: requests<3,>=2 in /usr/local/lib/python3.10/dist-packages (from langsmith<0.2.0,>=0.1.75->langchain-core<0.3,>=0.2.22->langgraph) (2.31.0)\n",
            "Requirement already satisfied: annotated-types>=0.4.0 in /usr/local/lib/python3.10/dist-packages (from pydantic<3,>=1->langchain-core<0.3,>=0.2.22->langgraph) (0.7.0)\n",
            "Requirement already satisfied: pydantic-core==2.20.1 in /usr/local/lib/python3.10/dist-packages (from pydantic<3,>=1->langchain-core<0.3,>=0.2.22->langgraph) (2.20.1)\n",
            "Requirement already satisfied: charset-normalizer<4,>=2 in /usr/local/lib/python3.10/dist-packages (from requests<3,>=2->langsmith<0.2.0,>=0.1.75->langchain-core<0.3,>=0.2.22->langgraph) (3.3.2)\n",
            "Requirement already satisfied: idna<4,>=2.5 in /usr/local/lib/python3.10/dist-packages (from requests<3,>=2->langsmith<0.2.0,>=0.1.75->langchain-core<0.3,>=0.2.22->langgraph) (3.7)\n",
            "Requirement already satisfied: urllib3<3,>=1.21.1 in /usr/local/lib/python3.10/dist-packages (from requests<3,>=2->langsmith<0.2.0,>=0.1.75->langchain-core<0.3,>=0.2.22->langgraph) (2.0.7)\n",
            "Requirement already satisfied: certifi>=2017.4.17 in /usr/local/lib/python3.10/dist-packages (from requests<3,>=2->langsmith<0.2.0,>=0.1.75->langchain-core<0.3,>=0.2.22->langgraph) (2024.7.4)\n"
          ]
        }
      ]
    },
    {
      "cell_type": "code",
      "execution_count": 20,
      "metadata": {
        "id": "GqRhcHczkQmP"
      },
      "outputs": [],
      "source": [
        "from langgraph.graph import StateGraph, END\n",
        "from typing import TypedDict, Literal\n",
        "\n",
        "\n",
        "class AgentState(TypedDict):\n",
        "    article_state: str"
      ]
    },
    {
      "cell_type": "code",
      "execution_count": 21,
      "metadata": {
        "id": "Xr3i4fFckQmP"
      },
      "outputs": [],
      "source": [
        "def get_transfer_news_grade(state: AgentState) -> AgentState:\n",
        "    print(f\"get_transfer_news_grade: Current state: {state}\")\n",
        "    print(\"Evaluator: Reading article but doing nothing to change it...\")\n",
        "    return state"
      ]
    },
    {
      "cell_type": "code",
      "execution_count": 22,
      "metadata": {
        "id": "LGGe8DD2kQmP"
      },
      "outputs": [],
      "source": [
        "def evaluate_article(state: AgentState) -> AgentState:\n",
        "    print(f\"evaluate_article: Current state: {state}\")\n",
        "    print(\"News : Reading article but doing nothing to change it...\")\n",
        "    return state"
      ]
    },
    {
      "cell_type": "code",
      "execution_count": 23,
      "metadata": {
        "id": "AKFPXpdOkQmQ"
      },
      "outputs": [],
      "source": [
        "def translate_article(state: AgentState) -> AgentState:\n",
        "    print(f\"translate_article: Current state: {state}\")\n",
        "    article = state[\"article_state\"]\n",
        "    result = translator.invoke({\"article\": article})\n",
        "    state[\"article_state\"] = result.content\n",
        "    return state"
      ]
    },
    {
      "cell_type": "code",
      "execution_count": 24,
      "metadata": {
        "id": "-XvsjYDjkQmQ"
      },
      "outputs": [],
      "source": [
        "def expand_article(state: AgentState) -> AgentState:\n",
        "    print(f\"expand_article: Current state: {state}\")\n",
        "    article = state[\"article_state\"]\n",
        "    result = expander.invoke({\"article\": article})\n",
        "    state[\"article_state\"] = result.content\n",
        "    return state"
      ]
    },
    {
      "cell_type": "code",
      "execution_count": 25,
      "metadata": {
        "id": "UPS_CLqLkQmQ"
      },
      "outputs": [],
      "source": [
        "def publisher(state: AgentState) -> AgentState:\n",
        "    print(f\"publisher: Current state: {state}\")\n",
        "    print(\"FINAL_STATE in publisher:\", state)\n",
        "    return state"
      ]
    },
    {
      "cell_type": "code",
      "execution_count": 26,
      "metadata": {
        "id": "RpzuMy1TkQmR"
      },
      "outputs": [],
      "source": [
        "def evaluator_router(state: AgentState) -> Literal[\"news_chef\", \"not_relevant\"]:\n",
        "    article = state[\"article_state\"]\n",
        "    evaluator = grade_prompt | structured_llm_grader\n",
        "    result = evaluator.invoke({\"article\": article})\n",
        "    print(f\"evaluator_router: Current state: {state}\")\n",
        "    print(\"Evaluator result: \", result)\n",
        "    if result.binary_score == \"yes\":\n",
        "        return \"news_chef\"\n",
        "    else:\n",
        "        return \"not_relevant\""
      ]
    },
    {
      "cell_type": "code",
      "execution_count": 27,
      "metadata": {
        "id": "E0s_-N0IkQmR"
      },
      "outputs": [],
      "source": [
        "def news_chef_router(\n",
        "    state: AgentState,\n",
        ") -> Literal[\"translator\", \"publisher\", \"expander\"]:\n",
        "    article = state[\"article_state\"]\n",
        "    result = news_chef.invoke({\"article\": article})\n",
        "    print(f\"news_chef_router: Current state: {state}\")\n",
        "    print(\"News chef result: \", result)\n",
        "    if result.can_be_posted == \"yes\":\n",
        "        return \"publisher\"\n",
        "    elif result.is_language_german == \"yes\":\n",
        "        if result.meets_word_count == \"no\" or result.is_sensationalistic == \"no\":\n",
        "            return \"expander\"\n",
        "    return \"translator\""
      ]
    },
    {
      "cell_type": "code",
      "execution_count": 28,
      "metadata": {
        "id": "zs9nEeP5kQmR"
      },
      "outputs": [],
      "source": [
        "workflow = StateGraph(AgentState)\n",
        "\n",
        "workflow.add_node(\"evaluator\", get_transfer_news_grade)\n",
        "workflow.add_node(\"news_chef\", evaluate_article)\n",
        "workflow.add_node(\"translator\", translate_article)\n",
        "workflow.add_node(\"expander\", expand_article)\n",
        "workflow.add_node(\"publisher\", publisher)\n",
        "\n",
        "workflow.set_entry_point(\"evaluator\")\n",
        "\n",
        "workflow.add_conditional_edges(\n",
        "    \"evaluator\", evaluator_router, {\"news_chef\": \"news_chef\", \"not_relevant\": END}\n",
        ")\n",
        "workflow.add_conditional_edges(\n",
        "    \"news_chef\",\n",
        "    news_chef_router,\n",
        "    {\"translator\": \"translator\", \"publisher\": \"publisher\", \"expander\": \"expander\"},\n",
        ")\n",
        "workflow.add_edge(\"translator\", \"news_chef\")\n",
        "workflow.add_edge(\"expander\", \"news_chef\")\n",
        "workflow.add_edge(\"publisher\", END)\n",
        "\n",
        "app = workflow.compile()"
      ]
    },
    {
      "cell_type": "code",
      "execution_count": 29,
      "metadata": {
        "colab": {
          "base_uri": "https://localhost:8080/",
          "height": 423
        },
        "id": "NDiGhvC8kQmR",
        "outputId": "42a44a92-da2e-46e0-f30e-442089ef4dd3"
      },
      "outputs": [
        {
          "output_type": "display_data",
          "data": {
            "image/jpeg": "[encoded data removed]",
            "text/plain": [
              "<IPython.core.display.Image object>"
            ]
          },
          "metadata": {}
        }
      ],
      "source": [
        "from IPython.display import Image, display\n",
        "\n",
        "try:\n",
        "    display(Image(app.get_graph(xray=True).draw_mermaid_png()))\n",
        "except:\n",
        "    pass"
      ]
    },
    {
      "cell_type": "code",
      "execution_count": 30,
      "metadata": {
        "colab": {
          "base_uri": "https://localhost:8080/"
        },
        "id": "kuarJJv8kQmR",
        "outputId": "ff1b23f2-630d-43ab-e07a-21fb6e6b34ad"
      },
      "outputs": [
        {
          "output_type": "stream",
          "name": "stdout",
          "text": [
            "get_transfer_news_grade: Current state: {'article_state': 'The Pope will visit Spain today'}\n",
            "Evaluator: Reading article but doing nothing to change it...\n",
            "evaluator_router: Current state: {'article_state': 'The Pope will visit Spain today'}\n",
            "Evaluator result:  binary_score='no'\n",
            "Final result: {'article_state': 'The Pope will visit Spain today'}\n"
          ]
        }
      ],
      "source": [
        "initial_state = {\"article_state\": \"The Pope will visit Spain today\"}\n",
        "result = app.invoke(initial_state)\n",
        "\n",
        "print(\"Final result:\", result)"
      ]
    },
    {
      "cell_type": "code",
      "execution_count": 31,
      "metadata": {
        "colab": {
          "base_uri": "https://localhost:8080/"
        },
        "id": "AuUml4hokQmR",
        "outputId": "1919302e-fdf1-4f75-cd88-54d7b3012f02"
      },
      "outputs": [
        {
          "output_type": "stream",
          "name": "stdout",
          "text": [
            "get_transfer_news_grade: Current state: {'article_state': 'Messi gonna switch from barca to real madrid'}\n",
            "Evaluator: Reading article but doing nothing to change it...\n",
            "evaluator_router: Current state: {'article_state': 'Messi gonna switch from barca to real madrid'}\n",
            "Evaluator result:  binary_score='yes'\n",
            "evaluate_article: Current state: {'article_state': 'Messi gonna switch from barca to real madrid'}\n",
            "News : Reading article but doing nothing to change it...\n",
            "news_chef_router: Current state: {'article_state': 'Messi gonna switch from barca to real madrid'}\n",
            "News chef result:  can_be_posted='no' meets_word_count='no' is_sensationalistic='yes' is_language_german='no'\n",
            "translate_article: Current state: {'article_state': 'Messi gonna switch from barca to real madrid'}\n",
            "evaluate_article: Current state: {'article_state': 'Messi wechselt von Barca zu Real Madrid'}\n",
            "News : Reading article but doing nothing to change it...\n",
            "news_chef_router: Current state: {'article_state': 'Messi wechselt von Barca zu Real Madrid'}\n",
            "News chef result:  can_be_posted='no' meets_word_count='no' is_sensationalistic='no' is_language_german='yes'\n",
            "expand_article: Current state: {'article_state': 'Messi wechselt von Barca zu Real Madrid'}\n",
            "evaluate_article: Current state: {'article_state': 'Die Fußballwelt wurde kürzlich von einer spektakulären Neuigkeit erschüttert: Lionel Messi wechselt von Barcelona zu Real Madrid. Dieser Transfer hat die Fans in Staunen versetzt und die Rivalität zwischen den beiden spanischen Giganten auf ein neues Level gehoben. Messi, der jahrelang das Trikot von Barcelona mit Stolz getragen hat, wird nun in den Farben von Real Madrid auflaufen.\\n\\nDieser Transfer markiert zweifellos einen Wendepunkt in der Karriere des argentinischen Superstars und wird zweifellos die Geschichte des Fußballs prägen. Die Vorstellung, Messi in einem anderen Trikot als dem von Barcelona zu sehen, mag für viele Fans surreal erscheinen, aber es ist nun Realität geworden.\\n\\nDie spanische Liga wird nun mit Spannung erwartet, da die Fans gespannt sind, wie Messi sich in seinem neuen Team zurechtfinden wird. Die Duelle zwischen Barcelona und Real Madrid werden in der kommenden Saison zweifellos noch intensiver und mit Spannung erwartet werden.\\n\\nDieser Transfer wird zweifellos die Fußballwelt in den kommenden Jahren prägen und die Diskussionen über den besten Spieler aller Zeiten neu entfachen. Messi bei Real Madrid - eine Vorstellung, die vor Kurzem noch undenkbar schien, ist nun Realität geworden.'}\n",
            "News : Reading article but doing nothing to change it...\n",
            "news_chef_router: Current state: {'article_state': 'Die Fußballwelt wurde kürzlich von einer spektakulären Neuigkeit erschüttert: Lionel Messi wechselt von Barcelona zu Real Madrid. Dieser Transfer hat die Fans in Staunen versetzt und die Rivalität zwischen den beiden spanischen Giganten auf ein neues Level gehoben. Messi, der jahrelang das Trikot von Barcelona mit Stolz getragen hat, wird nun in den Farben von Real Madrid auflaufen.\\n\\nDieser Transfer markiert zweifellos einen Wendepunkt in der Karriere des argentinischen Superstars und wird zweifellos die Geschichte des Fußballs prägen. Die Vorstellung, Messi in einem anderen Trikot als dem von Barcelona zu sehen, mag für viele Fans surreal erscheinen, aber es ist nun Realität geworden.\\n\\nDie spanische Liga wird nun mit Spannung erwartet, da die Fans gespannt sind, wie Messi sich in seinem neuen Team zurechtfinden wird. Die Duelle zwischen Barcelona und Real Madrid werden in der kommenden Saison zweifellos noch intensiver und mit Spannung erwartet werden.\\n\\nDieser Transfer wird zweifellos die Fußballwelt in den kommenden Jahren prägen und die Diskussionen über den besten Spieler aller Zeiten neu entfachen. Messi bei Real Madrid - eine Vorstellung, die vor Kurzem noch undenkbar schien, ist nun Realität geworden.'}\n",
            "News chef result:  can_be_posted='yes' meets_word_count='yes' is_sensationalistic='yes' is_language_german='yes'\n",
            "publisher: Current state: {'article_state': 'Die Fußballwelt wurde kürzlich von einer spektakulären Neuigkeit erschüttert: Lionel Messi wechselt von Barcelona zu Real Madrid. Dieser Transfer hat die Fans in Staunen versetzt und die Rivalität zwischen den beiden spanischen Giganten auf ein neues Level gehoben. Messi, der jahrelang das Trikot von Barcelona mit Stolz getragen hat, wird nun in den Farben von Real Madrid auflaufen.\\n\\nDieser Transfer markiert zweifellos einen Wendepunkt in der Karriere des argentinischen Superstars und wird zweifellos die Geschichte des Fußballs prägen. Die Vorstellung, Messi in einem anderen Trikot als dem von Barcelona zu sehen, mag für viele Fans surreal erscheinen, aber es ist nun Realität geworden.\\n\\nDie spanische Liga wird nun mit Spannung erwartet, da die Fans gespannt sind, wie Messi sich in seinem neuen Team zurechtfinden wird. Die Duelle zwischen Barcelona und Real Madrid werden in der kommenden Saison zweifellos noch intensiver und mit Spannung erwartet werden.\\n\\nDieser Transfer wird zweifellos die Fußballwelt in den kommenden Jahren prägen und die Diskussionen über den besten Spieler aller Zeiten neu entfachen. Messi bei Real Madrid - eine Vorstellung, die vor Kurzem noch undenkbar schien, ist nun Realität geworden.'}\n",
            "FINAL_STATE in publisher: {'article_state': 'Die Fußballwelt wurde kürzlich von einer spektakulären Neuigkeit erschüttert: Lionel Messi wechselt von Barcelona zu Real Madrid. Dieser Transfer hat die Fans in Staunen versetzt und die Rivalität zwischen den beiden spanischen Giganten auf ein neues Level gehoben. Messi, der jahrelang das Trikot von Barcelona mit Stolz getragen hat, wird nun in den Farben von Real Madrid auflaufen.\\n\\nDieser Transfer markiert zweifellos einen Wendepunkt in der Karriere des argentinischen Superstars und wird zweifellos die Geschichte des Fußballs prägen. Die Vorstellung, Messi in einem anderen Trikot als dem von Barcelona zu sehen, mag für viele Fans surreal erscheinen, aber es ist nun Realität geworden.\\n\\nDie spanische Liga wird nun mit Spannung erwartet, da die Fans gespannt sind, wie Messi sich in seinem neuen Team zurechtfinden wird. Die Duelle zwischen Barcelona und Real Madrid werden in der kommenden Saison zweifellos noch intensiver und mit Spannung erwartet werden.\\n\\nDieser Transfer wird zweifellos die Fußballwelt in den kommenden Jahren prägen und die Diskussionen über den besten Spieler aller Zeiten neu entfachen. Messi bei Real Madrid - eine Vorstellung, die vor Kurzem noch undenkbar schien, ist nun Realität geworden.'}\n",
            "Final result: {'article_state': 'Die Fußballwelt wurde kürzlich von einer spektakulären Neuigkeit erschüttert: Lionel Messi wechselt von Barcelona zu Real Madrid. Dieser Transfer hat die Fans in Staunen versetzt und die Rivalität zwischen den beiden spanischen Giganten auf ein neues Level gehoben. Messi, der jahrelang das Trikot von Barcelona mit Stolz getragen hat, wird nun in den Farben von Real Madrid auflaufen.\\n\\nDieser Transfer markiert zweifellos einen Wendepunkt in der Karriere des argentinischen Superstars und wird zweifellos die Geschichte des Fußballs prägen. Die Vorstellung, Messi in einem anderen Trikot als dem von Barcelona zu sehen, mag für viele Fans surreal erscheinen, aber es ist nun Realität geworden.\\n\\nDie spanische Liga wird nun mit Spannung erwartet, da die Fans gespannt sind, wie Messi sich in seinem neuen Team zurechtfinden wird. Die Duelle zwischen Barcelona und Real Madrid werden in der kommenden Saison zweifellos noch intensiver und mit Spannung erwartet werden.\\n\\nDieser Transfer wird zweifellos die Fußballwelt in den kommenden Jahren prägen und die Diskussionen über den besten Spieler aller Zeiten neu entfachen. Messi bei Real Madrid - eine Vorstellung, die vor Kurzem noch undenkbar schien, ist nun Realität geworden.'}\n"
          ]
        }
      ],
      "source": [
        "initial_state = {\"article_state\": \"Messi gonna switch from barca to real madrid\"}\n",
        "result = app.invoke(initial_state)\n",
        "\n",
        "print(\"Final result:\", result)"
      ]
    },
    {
      "cell_type": "code",
      "source": [],
      "metadata": {
        "id": "6I6lyX3ku0gZ"
      },
      "execution_count": 31,
      "outputs": []
    }
  ],
  "metadata": {
    "kernelspec": {
      "display_name": "Python 3",
      "name": "python3"
    },
    "language_info": {
      "codemirror_mode": {
        "name": "ipython",
        "version": 3
      },
      "file_extension": ".py",
      "mimetype": "text/x-python",
      "name": "python",
      "nbconvert_exporter": "python",
      "pygments_lexer": "ipython3",
      "version": "3.11.0"
    },
    "colab": {
      "provenance": [],
      "gpuType": "T4"
    },
    "accelerator": "GPU"
  },
  "nbformat": 4,
  "nbformat_minor": 0
}